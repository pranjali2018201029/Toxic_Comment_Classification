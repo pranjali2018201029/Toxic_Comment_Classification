{
  "nbformat": 4,
  "nbformat_minor": 0,
  "metadata": {
    "colab": {
      "name": "TP_Glove.ipynb",
      "provenance": [],
      "collapsed_sections": []
    },
    "kernelspec": {
      "name": "python3",
      "display_name": "Python 3"
    }
  },
  "cells": [
    {
      "cell_type": "code",
      "metadata": {
        "id": "-DcVFkWTVO_E",
        "colab_type": "code",
        "colab": {}
      },
      "source": [
        "\n",
        "# !pip install -q glove-python"
      ],
      "execution_count": 0,
      "outputs": []
    },
    {
      "cell_type": "code",
      "metadata": {
        "id": "h844WuesVZTv",
        "colab_type": "code",
        "colab": {}
      },
      "source": [
        "# from google.colab import drive\n",
        "# drive.mount('/content/drive')"
      ],
      "execution_count": 0,
      "outputs": []
    },
    {
      "cell_type": "code",
      "metadata": {
        "id": "l4qV4KMAXO19",
        "colab_type": "code",
        "colab": {}
      },
      "source": [
        "# drive.mount(\"/content/drive\", force_remount=True)"
      ],
      "execution_count": 0,
      "outputs": []
    },
    {
      "cell_type": "code",
      "metadata": {
        "id": "wC1YWw8KVxMB",
        "colab_type": "code",
        "colab": {}
      },
      "source": [
        "from glove import Corpus, Glove\n",
        "\n",
        "import pandas as pd\n",
        "import numpy as np"
      ],
      "execution_count": 0,
      "outputs": []
    },
    {
      "cell_type": "code",
      "metadata": {
        "id": "MtBleFAqV0Nm",
        "colab_type": "code",
        "colab": {}
      },
      "source": [
        "def Load_PreTrained_Glove(GloveFile):\n",
        "  Glove_Dictionary = {}\n",
        "  with open(GloveFile,'r') as file:\n",
        "    for line in file:\n",
        "      tokens = line.split()\n",
        "      word = tokens[0]\n",
        "      if word.isalnum():\n",
        "        word_embedding = np.array([float(val) for val in tokens[1:]])\n",
        "        Glove_Dictionary[word] = word_embedding\n",
        "  return Glove_Dictionary"
      ],
      "execution_count": 0,
      "outputs": []
    },
    {
      "cell_type": "code",
      "metadata": {
        "id": "TH79nQ6cV2gQ",
        "colab_type": "code",
        "colab": {}
      },
      "source": [
        "def Calculate_Glove_Embedding(Glove_Dictionary, text):\n",
        "  \n",
        "  # print(text)\n",
        "\n",
        "  words = text.split()\n",
        "  text_embeddings = []\n",
        "  \n",
        "  for word in words:\n",
        "    ## Ignore if word that is not present in vocabulary appears in the text\n",
        "    if word in Glove_Dictionary:\n",
        "      word_embedding = Glove_Dictionary[word]\n",
        "      text_embeddings.append(word_embedding)\n",
        "  \n",
        "  if(len(text_embeddings)>1):\n",
        "    text_embeddings = np.array(text_embeddings)\n",
        "    text_avg_embedding = np.mean(text_embeddings, axis=0)\n",
        "    # print(\"text_avg_embedding: \", text_avg_embedding)\n",
        "    # print(\"IF text_avg_embedding shape: \", text_avg_embedding.shape)\n",
        "  else:\n",
        "    text_avg_embedding = np.array(text_embeddings).flatten()\n",
        "    # text_avg_embedding = text_embeddings[0]\n",
        "    # print(\"text_avg_embedding: \", text_avg_embedding)\n",
        "    # print(\"ELSE text_avg_embedding shape: \", text_avg_embedding.shape)\n",
        "  \n",
        "  return text_avg_embedding"
      ],
      "execution_count": 0,
      "outputs": []
    },
    {
      "cell_type": "code",
      "metadata": {
        "id": "WnRz5UUxWWp_",
        "colab_type": "code",
        "colab": {}
      },
      "source": [
        "def Get_Glove_Embedding(GloveModel_filepath, Input_Data_filepath, colname=\"comment_text\", Label_Cols=[], Output_Data_filepath=\"\"):\n",
        "  \n",
        "  Glove_Dictionary = Load_PreTrained_Glove(GloveModel_filepath)\n",
        "    \n",
        "  data = pd.read_csv(Input_Data_filepath)\n",
        "\n",
        "  data.dropna()\n",
        "  data = data.dropna(subset=[colname])\n",
        "  \n",
        "  Data_Embeddings = []\n",
        "  for row in range(data.shape[0]):\n",
        "    text = data.iloc[row][colname]\n",
        "    text_avg_embedding = Calculate_Glove_Embedding(Glove_Dictionary, text)\n",
        "    # print(\"text_avg_embedding shape: \", text_avg_embedding.shape)\n",
        "    Data_Embeddings.append(text_avg_embedding)\n",
        "  \n",
        "  Data_Id = data[[\"id\"]]\n",
        "  Data_Text = data[[colname]]\n",
        "  Data_Labels = data[Label_Cols]\n",
        "\n",
        "  # if(len(Data_Embeddings)==0):\n",
        "  #   temp_Embeddings = [0 for i in range(300)]\n",
        "  #   Data_Embeddings.append(temp_Embeddings)\n",
        "\n",
        "  # Data_Embeddings = np.array(Data_Embeddings)\n",
        "  Data_Embeddings = pd.DataFrame(Data_Embeddings)\n",
        "  \n",
        "  Text_Embedding_Map = pd.concat([Data_Id, Data_Text, Data_Embeddings, Data_Labels], axis=1)\n",
        "  \n",
        "  if Output_Data_filepath:\n",
        "    Text_Embedding_Map.to_csv(Output_Data_filepath)\n",
        "  \n",
        "  return Text_Embedding_Map"
      ],
      "execution_count": 0,
      "outputs": []
    },
    {
      "cell_type": "code",
      "metadata": {
        "id": "z9VXLS0_W6T2",
        "colab_type": "code",
        "colab": {}
      },
      "source": [
        "Label_Cols = [\"toxic\", \"severe_toxic\", \"obscene\", \"threat\", \"insult\", \"identity_hate\"]\n",
        "\n",
        "Text_Embedding_Map = Get_Glove_Embedding(\"/content/drive/My Drive/glove.6B.300d.txt\", \"/content/cleanTrain.csv\", \"comment_text\", \n",
        "                                         Label_Cols, \"/content/Train_Glove_Embeddings.csv\")"
      ],
      "execution_count": 0,
      "outputs": []
    },
    {
      "cell_type": "code",
      "metadata": {
        "id": "Nmqg74YWY3mN",
        "colab_type": "code",
        "outputId": "edb7b433-0458-4970-f6ef-3f33fb783085",
        "colab": {
          "base_uri": "https://localhost:8080/",
          "height": 255
        }
      },
      "source": [
        "Text_Embedding_Map = Get_Glove_Embedding(\"/content/drive/My Drive/glove.6B.300d.txt\", \"/content/CleanTest.csv\", \"comment_text\", \n",
        "                                         Label_Cols, \"/content/Test_Glove_Embeddings.csv\")\n",
        "print(Text_Embedding_Map.head)"
      ],
      "execution_count": 0,
      "outputs": [
        {
          "output_type": "stream",
          "text": [
            "<bound method NDFrame.head of                      id  ... identity_hate\n",
            "0      0001ea8717f6de06  ...             0\n",
            "1      000247e83dcc1211  ...             0\n",
            "2      0002f87b16116a7f  ...             0\n",
            "3      0003e1cccfd5a40a  ...             0\n",
            "4      00059ace3e3e9a53  ...             0\n",
            "...                 ...  ...           ...\n",
            "63561  fff8f64043129fa2  ...             0\n",
            "63562  fff9d70fe0722906  ...             0\n",
            "63563  fffa8a11c4378854  ...             0\n",
            "63564  fffac2a094c8e0e2  ...             0\n",
            "63565  fffb5451268fb5ba  ...             0\n",
            "\n",
            "[63566 rows x 308 columns]>\n"
          ],
          "name": "stdout"
        }
      ]
    }
  ]
}