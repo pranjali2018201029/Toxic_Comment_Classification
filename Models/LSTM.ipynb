{
  "nbformat": 4,
  "nbformat_minor": 0,
  "metadata": {
    "colab": {
      "name": "mamidi_lstm.ipynb",
      "provenance": [],
      "collapsed_sections": []
    },
    "kernelspec": {
      "name": "python3",
      "display_name": "Python 3"
    }
  },
  "cells": [
    {
      "cell_type": "code",
      "metadata": {
        "id": "2wgZ8QfvPttt",
        "colab_type": "code",
        "colab": {
          "base_uri": "https://localhost:8080/",
          "height": 52
        },
        "outputId": "9f15df03-3f23-4301-d590-6ac49e33b7b3"
      },
      "source": [
        "## Install glove-python module\n",
        "!pip install -q glove-python"
      ],
      "execution_count": 2,
      "outputs": [
        {
          "output_type": "stream",
          "text": [
            "\u001b[?25l\r\u001b[K     |█▎                              | 10kB 23.3MB/s eta 0:00:01\r\u001b[K     |██▌                             | 20kB 1.4MB/s eta 0:00:01\r\u001b[K     |███▊                            | 30kB 2.0MB/s eta 0:00:01\r\u001b[K     |█████                           | 40kB 1.9MB/s eta 0:00:01\r\u001b[K     |██████▎                         | 51kB 2.3MB/s eta 0:00:01\r\u001b[K     |███████▌                        | 61kB 2.8MB/s eta 0:00:01\r\u001b[K     |████████▊                       | 71kB 3.2MB/s eta 0:00:01\r\u001b[K     |██████████                      | 81kB 3.6MB/s eta 0:00:01\r\u001b[K     |███████████▏                    | 92kB 4.1MB/s eta 0:00:01\r\u001b[K     |████████████▌                   | 102kB 3.6MB/s eta 0:00:01\r\u001b[K     |█████████████▊                  | 112kB 3.6MB/s eta 0:00:01\r\u001b[K     |███████████████                 | 122kB 3.6MB/s eta 0:00:01\r\u001b[K     |████████████████▏               | 133kB 3.6MB/s eta 0:00:01\r\u001b[K     |█████████████████▍              | 143kB 3.6MB/s eta 0:00:01\r\u001b[K     |██████████████████▊             | 153kB 3.6MB/s eta 0:00:01\r\u001b[K     |████████████████████            | 163kB 3.6MB/s eta 0:00:01\r\u001b[K     |█████████████████████▏          | 174kB 3.6MB/s eta 0:00:01\r\u001b[K     |██████████████████████▍         | 184kB 3.6MB/s eta 0:00:01\r\u001b[K     |███████████████████████▋        | 194kB 3.6MB/s eta 0:00:01\r\u001b[K     |█████████████████████████       | 204kB 3.6MB/s eta 0:00:01\r\u001b[K     |██████████████████████████▏     | 215kB 3.6MB/s eta 0:00:01\r\u001b[K     |███████████████████████████▍    | 225kB 3.6MB/s eta 0:00:01\r\u001b[K     |████████████████████████████▋   | 235kB 3.6MB/s eta 0:00:01\r\u001b[K     |█████████████████████████████▉  | 245kB 3.6MB/s eta 0:00:01\r\u001b[K     |███████████████████████████████▏| 256kB 3.6MB/s eta 0:00:01\r\u001b[K     |████████████████████████████████| 266kB 3.6MB/s \n",
            "\u001b[?25h  Building wheel for glove-python (setup.py) ... \u001b[?25l\u001b[?25hdone\n"
          ],
          "name": "stdout"
        }
      ]
    },
    {
      "cell_type": "code",
      "metadata": {
        "id": "vwNsc_rqP7mf",
        "colab_type": "code",
        "colab": {
          "base_uri": "https://localhost:8080/",
          "height": 81
        },
        "outputId": "cb044144-9d0b-4c8a-91a0-44c1945b1d6c"
      },
      "source": [
        "from keras.preprocessing.sequence import pad_sequences\n",
        "from keras.layers import Embedding, LSTM, Dense, Dropout\n",
        "from keras.preprocessing.text import Tokenizer\n",
        "from keras.callbacks import EarlyStopping\n",
        "from keras.models import Sequential\n",
        "import keras.utils as ku \n",
        "import numpy as np\n",
        "import itertools\n",
        "from glove import Corpus, Glove\n",
        "import pandas as pd\n",
        "from keras import optimizers\n"
      ],
      "execution_count": 3,
      "outputs": [
        {
          "output_type": "stream",
          "text": [
            "Using TensorFlow backend.\n"
          ],
          "name": "stderr"
        },
        {
          "output_type": "display_data",
          "data": {
            "text/html": [
              "<p style=\"color: red;\">\n",
              "The default version of TensorFlow in Colab will soon switch to TensorFlow 2.x.<br>\n",
              "We recommend you <a href=\"https://www.tensorflow.org/guide/migrate\" target=\"_blank\">upgrade</a> now \n",
              "or ensure your notebook will continue to use TensorFlow 1.x via the <code>%tensorflow_version 1.x</code> magic:\n",
              "<a href=\"https://colab.research.google.com/notebooks/tensorflow_version.ipynb\" target=\"_blank\">more info</a>.</p>\n"
            ],
            "text/plain": [
              "<IPython.core.display.HTML object>"
            ]
          },
          "metadata": {
            "tags": []
          }
        }
      ]
    },
    {
      "cell_type": "code",
      "metadata": {
        "id": "IjpnylI6Q9Yd",
        "colab_type": "code",
        "outputId": "8e556a61-c5bd-46da-b911-f294e177068f",
        "colab": {
          "base_uri": "https://localhost:8080/",
          "height": 124
        }
      },
      "source": [
        "from google.colab import drive\n",
        "drive.mount('/content/drive')"
      ],
      "execution_count": 4,
      "outputs": [
        {
          "output_type": "stream",
          "text": [
            "Go to this URL in a browser: https://accounts.google.com/o/oauth2/auth?client_id=947318989803-6bn6qk8qdgf4n4g3pfee6491hc0brc4i.apps.googleusercontent.com&redirect_uri=urn%3aietf%3awg%3aoauth%3a2.0%3aoob&response_type=code&scope=email%20https%3a%2f%2fwww.googleapis.com%2fauth%2fdocs.test%20https%3a%2f%2fwww.googleapis.com%2fauth%2fdrive%20https%3a%2f%2fwww.googleapis.com%2fauth%2fdrive.photos.readonly%20https%3a%2f%2fwww.googleapis.com%2fauth%2fpeopleapi.readonly\n",
            "\n",
            "Enter your authorization code:\n",
            "··········\n",
            "Mounted at /content/drive\n"
          ],
          "name": "stdout"
        }
      ]
    },
    {
      "cell_type": "code",
      "metadata": {
        "id": "diYwQEj0RR_-",
        "colab_type": "code",
        "colab": {}
      },
      "source": [
        "def training_glove_weights(data):\n",
        "    corpus = Corpus() \n",
        "    corpus.fit(data,window=10)\n",
        "    glove = Glove(no_components=5, learning_rate=0.05)\n",
        "    glove.fit(corpus.matrix, epochs=30, no_threads=4, verbose=True)\n",
        "    glove.add_dictionary(corpus.dictionary)\n",
        "    glove.save('/content/drive/My Drive/extracted_data/mamidi_project/glove.model')"
      ],
      "execution_count": 0,
      "outputs": []
    },
    {
      "cell_type": "code",
      "metadata": {
        "id": "lrAneOA0SUZ3",
        "colab_type": "code",
        "colab": {}
      },
      "source": [
        "def getting_glove_weights():\n",
        "    glove_model=Glove.load('/content/drive/My Drive/extracted_data/mamidi_project/glove.model')\n",
        "    embedding_matrix2 = dict()\n",
        "    embedding_matrix2 = glove_model.dictionary\n",
        "    return embedding_matrix2"
      ],
      "execution_count": 0,
      "outputs": []
    },
    {
      "cell_type": "code",
      "metadata": {
        "id": "_7OjhA1DSl7B",
        "colab_type": "code",
        "colab": {}
      },
      "source": [
        "def getting_pretrained_glove_weights(vocabulary_size):\n",
        "    embeddings_index = dict()\n",
        "    f = open('/content/drive/My Drive/extracted_data/glove/glove.6B.100d.txt')\n",
        "    for line in f:\n",
        "        values = line.split()\n",
        "        word = values[0]\n",
        "        coefs = np.asarray(values[1:], dtype='float32')\n",
        "        embeddings_index[word] = coefs\n",
        "    f.close()\n",
        "    embedding_matrix = np.zeros((vocabulary_size, 100))\n",
        "    for word, index in tokenizer.word_index.items():\n",
        "        if index > vocabulary_size - 1:\n",
        "            break\n",
        "        else:\n",
        "            embedding_vector = embeddings_index.get(word)\n",
        "            if embedding_vector is not None:\n",
        "                embedding_matrix[index] = embedding_vector\n",
        "    return embedding_matrix"
      ],
      "execution_count": 0,
      "outputs": []
    },
    {
      "cell_type": "code",
      "metadata": {
        "id": "lUm0RqLBb4x6",
        "colab_type": "code",
        "outputId": "c070b157-cba0-4b95-b800-0a4727f6dca4",
        "colab": {
          "base_uri": "https://localhost:8080/",
          "height": 200
        }
      },
      "source": [
        "\n",
        "loss, accuracy = model.evaluate(padded_docs, labels, verbose=0)\n",
        "print('Accuracy: %f' % (accuracy*100))"
      ],
      "execution_count": 0,
      "outputs": [
        {
          "output_type": "error",
          "ename": "NameError",
          "evalue": "ignored",
          "traceback": [
            "\u001b[0;31m---------------------------------------------------------------------------\u001b[0m",
            "\u001b[0;31mNameError\u001b[0m                                 Traceback (most recent call last)",
            "\u001b[0;32m<ipython-input-7-2f22ee99b207>\u001b[0m in \u001b[0;36m<module>\u001b[0;34m()\u001b[0m\n\u001b[1;32m      1\u001b[0m \u001b[0;34m\u001b[0m\u001b[0m\n\u001b[0;32m----> 2\u001b[0;31m \u001b[0mloss\u001b[0m\u001b[0;34m,\u001b[0m \u001b[0maccuracy\u001b[0m \u001b[0;34m=\u001b[0m \u001b[0mmodel\u001b[0m\u001b[0;34m.\u001b[0m\u001b[0mevaluate\u001b[0m\u001b[0;34m(\u001b[0m\u001b[0mpadded_docs\u001b[0m\u001b[0;34m,\u001b[0m \u001b[0mlabels\u001b[0m\u001b[0;34m,\u001b[0m \u001b[0mverbose\u001b[0m\u001b[0;34m=\u001b[0m\u001b[0;36m0\u001b[0m\u001b[0;34m)\u001b[0m\u001b[0;34m\u001b[0m\u001b[0;34m\u001b[0m\u001b[0m\n\u001b[0m\u001b[1;32m      3\u001b[0m \u001b[0mprint\u001b[0m\u001b[0;34m(\u001b[0m\u001b[0;34m'Accuracy: %f'\u001b[0m \u001b[0;34m%\u001b[0m \u001b[0;34m(\u001b[0m\u001b[0maccuracy\u001b[0m\u001b[0;34m*\u001b[0m\u001b[0;36m100\u001b[0m\u001b[0;34m)\u001b[0m\u001b[0;34m)\u001b[0m\u001b[0;34m\u001b[0m\u001b[0;34m\u001b[0m\u001b[0m\n",
            "\u001b[0;31mNameError\u001b[0m: name 'model' is not defined"
          ]
        }
      ]
    },
    {
      "cell_type": "code",
      "metadata": {
        "id": "4j0QrHlscW_i",
        "colab_type": "code",
        "outputId": "96736013-2cb7-4710-d3c0-25f9b62ac007",
        "colab": {
          "base_uri": "https://localhost:8080/",
          "height": 260
        }
      },
      "source": [
        "df1 = pd.read_csv('/content/drive/My Drive/extracted_data/mamidi_project/data/without-1/cleanTrain.csv',dtype={'comment_text':str})\n",
        "df1.info()"
      ],
      "execution_count": 8,
      "outputs": [
        {
          "output_type": "stream",
          "text": [
            "<class 'pandas.core.frame.DataFrame'>\n",
            "RangeIndex: 159571 entries, 0 to 159570\n",
            "Data columns (total 9 columns):\n",
            "Unnamed: 0       159571 non-null int64\n",
            "id               159571 non-null object\n",
            "comment_text     159551 non-null object\n",
            "toxic            159571 non-null int64\n",
            "severe_toxic     159571 non-null int64\n",
            "obscene          159571 non-null int64\n",
            "threat           159571 non-null int64\n",
            "insult           159571 non-null int64\n",
            "identity_hate    159571 non-null int64\n",
            "dtypes: int64(7), object(2)\n",
            "memory usage: 11.0+ MB\n"
          ],
          "name": "stdout"
        }
      ]
    },
    {
      "cell_type": "code",
      "metadata": {
        "id": "D8tDSCQVdtbd",
        "colab_type": "code",
        "colab": {
          "base_uri": "https://localhost:8080/",
          "height": 34
        },
        "outputId": "a8b65ea2-0f77-4d66-d2e4-39bb43bd506e"
      },
      "source": [
        "comments = df1['comment_text'].values\n",
        "comments.shape"
      ],
      "execution_count": 9,
      "outputs": [
        {
          "output_type": "execute_result",
          "data": {
            "text/plain": [
              "(159571,)"
            ]
          },
          "metadata": {
            "tags": []
          },
          "execution_count": 9
        }
      ]
    },
    {
      "cell_type": "code",
      "metadata": {
        "id": "_8FQ4-RU1WKe",
        "colab_type": "code",
        "colab": {
          "base_uri": "https://localhost:8080/",
          "height": 34
        },
        "outputId": "18d90937-11c2-4acb-bb57-4463c6b82e3d"
      },
      "source": [
        "l_comments = []\n",
        "for i in comments:\n",
        "  l_comments.append(str(i))\n",
        "comments = np.asarray(l_comments)\n",
        "comments.shape"
      ],
      "execution_count": 10,
      "outputs": [
        {
          "output_type": "execute_result",
          "data": {
            "text/plain": [
              "(159571,)"
            ]
          },
          "metadata": {
            "tags": []
          },
          "execution_count": 10
        }
      ]
    },
    {
      "cell_type": "code",
      "metadata": {
        "id": "cS4noL7BiWGh",
        "colab_type": "code",
        "colab": {}
      },
      "source": [
        "labels = df1[['toxic','severe_toxic','obscene','threat','insult','identity_hate']].values"
      ],
      "execution_count": 0,
      "outputs": []
    },
    {
      "cell_type": "code",
      "metadata": {
        "id": "egD2uFcFR7qf",
        "colab_type": "code",
        "colab": {
          "base_uri": "https://localhost:8080/",
          "height": 34
        },
        "outputId": "af5e7999-9225-4aeb-e603-ce982ba4a459"
      },
      "source": [
        "labels.shape[0]"
      ],
      "execution_count": 12,
      "outputs": [
        {
          "output_type": "execute_result",
          "data": {
            "text/plain": [
              "159571"
            ]
          },
          "metadata": {
            "tags": []
          },
          "execution_count": 12
        }
      ]
    },
    {
      "cell_type": "code",
      "metadata": {
        "id": "PoKiNMIkRS6l",
        "colab_type": "code",
        "colab": {}
      },
      "source": [
        "non_toxic_label = np.zeros(labels.shape[0])\n",
        "for i in range(labels.shape[0]):\n",
        "  flag = 0\n",
        "  for j in range(labels.shape[1]):\n",
        "    if(labels[i][j] == 1):\n",
        "      flag = 1\n",
        "      break\n",
        "  if(flag == 0):\n",
        "    non_toxic_label[i] = 1"
      ],
      "execution_count": 0,
      "outputs": []
    },
    {
      "cell_type": "code",
      "metadata": {
        "id": "1KPPSzPnS58Z",
        "colab_type": "code",
        "colab": {}
      },
      "source": [
        "nt_labels = np.hstack((labels, np.atleast_2d(non_toxic_label).T))"
      ],
      "execution_count": 0,
      "outputs": []
    },
    {
      "cell_type": "code",
      "metadata": {
        "id": "HWNT5oZJy8i0",
        "colab_type": "code",
        "outputId": "e586e96c-2e21-4dd6-9c6f-50003a90e83f",
        "colab": {
          "base_uri": "https://localhost:8080/",
          "height": 260
        }
      },
      "source": [
        "df2 = pd.read_csv('/content/drive/My Drive/extracted_data/mamidi_project/data/without-1/CleanTest.csv',dtype={'comment_text':str})\n",
        "df2.info()"
      ],
      "execution_count": 15,
      "outputs": [
        {
          "output_type": "stream",
          "text": [
            "<class 'pandas.core.frame.DataFrame'>\n",
            "RangeIndex: 63566 entries, 0 to 63565\n",
            "Data columns (total 9 columns):\n",
            "Unnamed: 0       63566 non-null int64\n",
            "id               63566 non-null object\n",
            "comment_text     63566 non-null object\n",
            "toxic            63566 non-null int64\n",
            "severe_toxic     63566 non-null int64\n",
            "obscene          63566 non-null int64\n",
            "threat           63566 non-null int64\n",
            "insult           63566 non-null int64\n",
            "identity_hate    63566 non-null int64\n",
            "dtypes: int64(7), object(2)\n",
            "memory usage: 4.4+ MB\n"
          ],
          "name": "stdout"
        }
      ]
    },
    {
      "cell_type": "code",
      "metadata": {
        "id": "BcLNYjjSzGWq",
        "colab_type": "code",
        "colab": {}
      },
      "source": [
        "test_comments = df2['comment_text'].values"
      ],
      "execution_count": 0,
      "outputs": []
    },
    {
      "cell_type": "code",
      "metadata": {
        "id": "vAEPgFMvei9z",
        "colab_type": "code",
        "colab": {}
      },
      "source": [
        "test_labels = df2[['toxic','severe_toxic','obscene','threat','insult','identity_hate']].values"
      ],
      "execution_count": 0,
      "outputs": []
    },
    {
      "cell_type": "code",
      "metadata": {
        "id": "jlmK5MqUcouV",
        "colab_type": "code",
        "colab": {}
      },
      "source": [
        "non_toxic_label = np.zeros(test_labels.shape[0])\n",
        "for i in range(test_labels.shape[0]):\n",
        "  flag = 0\n",
        "  for j in range(test_labels.shape[1]):\n",
        "    if(test_labels[i][j] == 1):\n",
        "      flag = 1\n",
        "      break\n",
        "  if(flag == 0):\n",
        "    non_toxic_label[i] = 1"
      ],
      "execution_count": 0,
      "outputs": []
    },
    {
      "cell_type": "code",
      "metadata": {
        "id": "Lz2jx6rAiOFB",
        "colab_type": "code",
        "colab": {}
      },
      "source": [
        "nt_test_labels = np.hstack((test_labels, np.atleast_2d(non_toxic_label).T))"
      ],
      "execution_count": 0,
      "outputs": []
    },
    {
      "cell_type": "code",
      "metadata": {
        "id": "KFdinAMMis0k",
        "colab_type": "code",
        "outputId": "2f499403-4936-4ef4-ab06-b0abf0d64582",
        "colab": {
          "base_uri": "https://localhost:8080/",
          "height": 52
        }
      },
      "source": [
        "tokenizer = Tokenizer(num_words=20000)\n",
        "tokenizer.fit_on_texts(list(comments) + list(test_comments))\n",
        "train = tokenizer.texts_to_sequences(comments)\n",
        "test = tokenizer.texts_to_sequences(test_comments)\n",
        "print('Average train sequence length: {}'.format(np.mean(list(map(len, train)), dtype=int)))\n",
        "print('Average test sequence length: {}'.format(np.mean(list(map(len, test)), dtype=int)))"
      ],
      "execution_count": 20,
      "outputs": [
        {
          "output_type": "stream",
          "text": [
            "Average train sequence length: 37\n",
            "Average test sequence length: 35\n"
          ],
          "name": "stdout"
        }
      ]
    },
    {
      "cell_type": "code",
      "metadata": {
        "id": "RIXQyPqM1jfu",
        "colab_type": "code",
        "outputId": "8740f755-e76e-4f28-ee4a-bc405b4986ce",
        "colab": {
          "base_uri": "https://localhost:8080/",
          "height": 34
        }
      },
      "source": [
        "max_sequence_len = max([len(x) for x in train])\n",
        "print(max_sequence_len)\n",
        "x_train = pad_sequences(train,maxlen = 100, padding = 'pre')\n",
        "x_test = pad_sequences(test,maxlen = 100, padding = 'pre')\n"
      ],
      "execution_count": 21,
      "outputs": [
        {
          "output_type": "stream",
          "text": [
            "1384\n"
          ],
          "name": "stdout"
        }
      ]
    },
    {
      "cell_type": "code",
      "metadata": {
        "id": "HCuSdvKR21jl",
        "colab_type": "code",
        "outputId": "e3ce203b-16fe-4710-9a71-105213da56ff",
        "colab": {
          "base_uri": "https://localhost:8080/",
          "height": 34
        }
      },
      "source": [
        "total_words = len(tokenizer.word_index) + 1\n",
        "print(total_words)"
      ],
      "execution_count": 0,
      "outputs": [
        {
          "output_type": "stream",
          "text": [
            "28710\n"
          ],
          "name": "stdout"
        }
      ]
    },
    {
      "cell_type": "code",
      "metadata": {
        "id": "cvKWbEIG9ZsD",
        "colab_type": "code",
        "colab": {}
      },
      "source": [
        "embedding_matrix = getting_pretrained_glove_weights(20000)"
      ],
      "execution_count": 0,
      "outputs": []
    },
    {
      "cell_type": "code",
      "metadata": {
        "id": "PBcLZmkjzdGM",
        "colab_type": "code",
        "colab": {
          "base_uri": "https://localhost:8080/",
          "height": 419
        },
        "outputId": "98e383a8-4f99-44da-a7c1-1b8000a4a22e"
      },
      "source": [
        "model = Sequential()\n",
        "input_len = max_sequence_len\n",
        "model.add(Embedding(20000, 100 , weights=[embedding_matrix], input_length = 100))\n",
        "# try 100 later\n",
        "model.add(LSTM(100))\n",
        "model.add(Dense(7,activation='sigmoid'))\n",
        "opt_adam = optimizers.adam(lr=0.001)\n",
        "model.compile(loss='categorical_crossentropy',\n",
        "        metrics=['accuracy'],optimizer=opt_adam)"
      ],
      "execution_count": 23,
      "outputs": [
        {
          "output_type": "stream",
          "text": [
            "WARNING:tensorflow:From /usr/local/lib/python3.6/dist-packages/keras/backend/tensorflow_backend.py:66: The name tf.get_default_graph is deprecated. Please use tf.compat.v1.get_default_graph instead.\n",
            "\n",
            "WARNING:tensorflow:From /usr/local/lib/python3.6/dist-packages/keras/backend/tensorflow_backend.py:541: The name tf.placeholder is deprecated. Please use tf.compat.v1.placeholder instead.\n",
            "\n",
            "WARNING:tensorflow:From /usr/local/lib/python3.6/dist-packages/keras/backend/tensorflow_backend.py:4432: The name tf.random_uniform is deprecated. Please use tf.random.uniform instead.\n",
            "\n",
            "WARNING:tensorflow:From /usr/local/lib/python3.6/dist-packages/keras/backend/tensorflow_backend.py:190: The name tf.get_default_session is deprecated. Please use tf.compat.v1.get_default_session instead.\n",
            "\n",
            "WARNING:tensorflow:From /usr/local/lib/python3.6/dist-packages/keras/backend/tensorflow_backend.py:197: The name tf.ConfigProto is deprecated. Please use tf.compat.v1.ConfigProto instead.\n",
            "\n",
            "WARNING:tensorflow:From /usr/local/lib/python3.6/dist-packages/keras/backend/tensorflow_backend.py:203: The name tf.Session is deprecated. Please use tf.compat.v1.Session instead.\n",
            "\n",
            "WARNING:tensorflow:From /usr/local/lib/python3.6/dist-packages/keras/backend/tensorflow_backend.py:207: The name tf.global_variables is deprecated. Please use tf.compat.v1.global_variables instead.\n",
            "\n",
            "WARNING:tensorflow:From /usr/local/lib/python3.6/dist-packages/keras/backend/tensorflow_backend.py:216: The name tf.is_variable_initialized is deprecated. Please use tf.compat.v1.is_variable_initialized instead.\n",
            "\n",
            "WARNING:tensorflow:From /usr/local/lib/python3.6/dist-packages/keras/backend/tensorflow_backend.py:223: The name tf.variables_initializer is deprecated. Please use tf.compat.v1.variables_initializer instead.\n",
            "\n",
            "WARNING:tensorflow:From /usr/local/lib/python3.6/dist-packages/keras/optimizers.py:793: The name tf.train.Optimizer is deprecated. Please use tf.compat.v1.train.Optimizer instead.\n",
            "\n",
            "WARNING:tensorflow:From /usr/local/lib/python3.6/dist-packages/keras/backend/tensorflow_backend.py:3576: The name tf.log is deprecated. Please use tf.math.log instead.\n",
            "\n"
          ],
          "name": "stdout"
        }
      ]
    },
    {
      "cell_type": "code",
      "metadata": {
        "id": "S3wvsc0j6Gf4",
        "colab_type": "code",
        "outputId": "776cf00c-0438-466f-d96b-9b4a09a1fe29",
        "colab": {
          "base_uri": "https://localhost:8080/",
          "height": 1000
        }
      },
      "source": [
        "hist = model.fit(x_train, nt_labels, batch_size=512, epochs=100)"
      ],
      "execution_count": 25,
      "outputs": [
        {
          "output_type": "stream",
          "text": [
            "Epoch 1/100\n",
            "159571/159571 [==============================] - 348s 2ms/step - loss: 0.4134 - acc: 0.9579\n",
            "Epoch 2/100\n",
            "159571/159571 [==============================] - 312s 2ms/step - loss: 0.3839 - acc: 0.9624\n",
            "Epoch 3/100\n",
            "159571/159571 [==============================] - 312s 2ms/step - loss: 0.3641 - acc: 0.9627\n",
            "Epoch 4/100\n",
            "159571/159571 [==============================] - 311s 2ms/step - loss: 0.3499 - acc: 0.9587\n",
            "Epoch 5/100\n",
            "159571/159571 [==============================] - 313s 2ms/step - loss: 0.3378 - acc: 0.9573\n",
            "Epoch 6/100\n",
            "159571/159571 [==============================] - 311s 2ms/step - loss: 0.3266 - acc: 0.9579\n",
            "Epoch 7/100\n",
            "159571/159571 [==============================] - 311s 2ms/step - loss: 0.3169 - acc: 0.9587\n",
            "Epoch 8/100\n",
            "159571/159571 [==============================] - 318s 2ms/step - loss: 0.3067 - acc: 0.9585\n",
            "Epoch 9/100\n",
            "159571/159571 [==============================] - 338s 2ms/step - loss: 0.2981 - acc: 0.9599\n",
            "Epoch 10/100\n",
            "159571/159571 [==============================] - 334s 2ms/step - loss: 0.2908 - acc: 0.9601\n",
            "Epoch 11/100\n",
            "159571/159571 [==============================] - 318s 2ms/step - loss: 0.2839 - acc: 0.9597\n",
            "Epoch 12/100\n",
            "159571/159571 [==============================] - 333s 2ms/step - loss: 0.2770 - acc: 0.9586\n",
            "Epoch 13/100\n",
            "159571/159571 [==============================] - 322s 2ms/step - loss: 0.2703 - acc: 0.9580\n",
            "Epoch 14/100\n",
            "159571/159571 [==============================] - 325s 2ms/step - loss: 0.2645 - acc: 0.9580\n",
            "Epoch 15/100\n",
            "159571/159571 [==============================] - 334s 2ms/step - loss: 0.2592 - acc: 0.9567\n",
            "Epoch 16/100\n",
            "159571/159571 [==============================] - 315s 2ms/step - loss: 0.2555 - acc: 0.9554\n",
            "Epoch 17/100\n",
            "159571/159571 [==============================] - 311s 2ms/step - loss: 0.2508 - acc: 0.9557\n",
            "Epoch 18/100\n",
            "159571/159571 [==============================] - 310s 2ms/step - loss: 0.2463 - acc: 0.9556\n",
            "Epoch 19/100\n",
            "159571/159571 [==============================] - 315s 2ms/step - loss: 0.2444 - acc: 0.9540\n",
            "Epoch 20/100\n",
            "159571/159571 [==============================] - 315s 2ms/step - loss: 0.2413 - acc: 0.9563\n",
            "Epoch 21/100\n",
            "159571/159571 [==============================] - 316s 2ms/step - loss: 0.2370 - acc: 0.9553\n",
            "Epoch 22/100\n",
            "159571/159571 [==============================] - 313s 2ms/step - loss: 0.2344 - acc: 0.9567\n",
            "Epoch 23/100\n",
            "159571/159571 [==============================] - 313s 2ms/step - loss: 0.2331 - acc: 0.9556\n",
            "Epoch 24/100\n",
            "159571/159571 [==============================] - 316s 2ms/step - loss: 0.2301 - acc: 0.9548\n",
            "Epoch 25/100\n",
            "159571/159571 [==============================] - 319s 2ms/step - loss: 0.2281 - acc: 0.9563\n",
            "Epoch 26/100\n",
            "159571/159571 [==============================] - 316s 2ms/step - loss: 0.2263 - acc: 0.9568\n",
            "Epoch 27/100\n",
            "159571/159571 [==============================] - 325s 2ms/step - loss: 0.2242 - acc: 0.9568\n",
            "Epoch 28/100\n",
            "159571/159571 [==============================] - 319s 2ms/step - loss: 0.2239 - acc: 0.9571\n",
            "Epoch 29/100\n",
            "159571/159571 [==============================] - 311s 2ms/step - loss: 0.2251 - acc: 0.9569\n",
            "Epoch 30/100\n",
            "159571/159571 [==============================] - 315s 2ms/step - loss: 0.2229 - acc: 0.9572\n",
            "Epoch 31/100\n",
            "159571/159571 [==============================] - 316s 2ms/step - loss: 0.2211 - acc: 0.9571\n",
            "Epoch 32/100\n",
            "159571/159571 [==============================] - 318s 2ms/step - loss: 0.2188 - acc: 0.9576\n",
            "Epoch 33/100\n",
            "159571/159571 [==============================] - 314s 2ms/step - loss: 0.2172 - acc: 0.9566\n",
            "Epoch 34/100\n",
            "159571/159571 [==============================] - 323s 2ms/step - loss: 0.2179 - acc: 0.9572\n",
            "Epoch 35/100\n",
            "159571/159571 [==============================] - 312s 2ms/step - loss: 0.2169 - acc: 0.9580\n",
            "Epoch 36/100\n",
            "159571/159571 [==============================] - 312s 2ms/step - loss: 0.2193 - acc: 0.9571\n",
            "Epoch 37/100\n",
            "159571/159571 [==============================] - 314s 2ms/step - loss: 0.2164 - acc: 0.9574\n",
            "Epoch 38/100\n",
            "159571/159571 [==============================] - 332s 2ms/step - loss: 0.2147 - acc: 0.9586\n",
            "Epoch 39/100\n",
            "159571/159571 [==============================] - 325s 2ms/step - loss: 0.2137 - acc: 0.9579\n",
            "Epoch 40/100\n",
            "159571/159571 [==============================] - 314s 2ms/step - loss: 0.2140 - acc: 0.9582\n",
            "Epoch 41/100\n",
            "159571/159571 [==============================] - 312s 2ms/step - loss: 0.2135 - acc: 0.9581\n",
            "Epoch 42/100\n",
            "159571/159571 [==============================] - 314s 2ms/step - loss: 0.2141 - acc: 0.9576\n",
            "Epoch 43/100\n",
            "159571/159571 [==============================] - 329s 2ms/step - loss: 0.2139 - acc: 0.9570\n",
            "Epoch 44/100\n",
            "159571/159571 [==============================] - 317s 2ms/step - loss: 0.2127 - acc: 0.9589\n",
            "Epoch 45/100\n",
            "159571/159571 [==============================] - 313s 2ms/step - loss: 0.2116 - acc: 0.9580\n",
            "Epoch 46/100\n",
            "159571/159571 [==============================] - 313s 2ms/step - loss: 0.2107 - acc: 0.9590\n",
            "Epoch 47/100\n",
            "159571/159571 [==============================] - 313s 2ms/step - loss: 0.2111 - acc: 0.9587\n",
            "Epoch 48/100\n",
            "159571/159571 [==============================] - 315s 2ms/step - loss: 0.2111 - acc: 0.9589\n",
            "Epoch 49/100\n",
            "159571/159571 [==============================] - 317s 2ms/step - loss: 0.2118 - acc: 0.9587\n",
            "Epoch 50/100\n",
            "159571/159571 [==============================] - 322s 2ms/step - loss: 0.2130 - acc: 0.9580\n",
            "Epoch 51/100\n",
            "159571/159571 [==============================] - 313s 2ms/step - loss: 0.2117 - acc: 0.9587\n",
            "Epoch 52/100\n",
            "159571/159571 [==============================] - 312s 2ms/step - loss: 0.2103 - acc: 0.9587\n",
            "Epoch 53/100\n",
            "159571/159571 [==============================] - 313s 2ms/step - loss: 0.2105 - acc: 0.9601\n",
            "Epoch 54/100\n",
            "159571/159571 [==============================] - 313s 2ms/step - loss: 0.2097 - acc: 0.9588\n",
            "Epoch 55/100\n",
            "159571/159571 [==============================] - 312s 2ms/step - loss: 0.2091 - acc: 0.9597\n",
            "Epoch 56/100\n",
            "159571/159571 [==============================] - 312s 2ms/step - loss: 0.2086 - acc: 0.9587\n",
            "Epoch 57/100\n",
            "159571/159571 [==============================] - 315s 2ms/step - loss: 0.2097 - acc: 0.9584\n",
            "Epoch 58/100\n",
            "159571/159571 [==============================] - 333s 2ms/step - loss: 0.2094 - acc: 0.9591\n",
            "Epoch 59/100\n",
            "159571/159571 [==============================] - 337s 2ms/step - loss: 0.2083 - acc: 0.9604\n",
            "Epoch 60/100\n",
            "159571/159571 [==============================] - 340s 2ms/step - loss: 0.2089 - acc: 0.9596\n",
            "Epoch 61/100\n",
            "159571/159571 [==============================] - 342s 2ms/step - loss: 0.2097 - acc: 0.9595\n",
            "Epoch 62/100\n",
            "159571/159571 [==============================] - 340s 2ms/step - loss: 0.2091 - acc: 0.9601\n",
            "Epoch 63/100\n",
            "159571/159571 [==============================] - 339s 2ms/step - loss: 0.2083 - acc: 0.9596\n",
            "Epoch 64/100\n",
            "159571/159571 [==============================] - 336s 2ms/step - loss: 0.2077 - acc: 0.9600\n",
            "Epoch 65/100\n",
            "159571/159571 [==============================] - 325s 2ms/step - loss: 0.2077 - acc: 0.9593\n",
            "Epoch 66/100\n",
            "159571/159571 [==============================] - 322s 2ms/step - loss: 0.2073 - acc: 0.9601\n",
            "Epoch 67/100\n",
            "159571/159571 [==============================] - 322s 2ms/step - loss: 0.2117 - acc: 0.9597\n",
            "Epoch 68/100\n",
            "159571/159571 [==============================] - 322s 2ms/step - loss: 0.2085 - acc: 0.9598\n",
            "Epoch 69/100\n",
            "159571/159571 [==============================] - 322s 2ms/step - loss: 0.2078 - acc: 0.9607\n",
            "Epoch 70/100\n",
            "159571/159571 [==============================] - 323s 2ms/step - loss: 0.2069 - acc: 0.9611\n",
            "Epoch 71/100\n",
            "159571/159571 [==============================] - 325s 2ms/step - loss: 0.2065 - acc: 0.9603\n",
            "Epoch 72/100\n",
            "159571/159571 [==============================] - 320s 2ms/step - loss: 0.2064 - acc: 0.9611\n",
            "Epoch 73/100\n",
            "159571/159571 [==============================] - 321s 2ms/step - loss: 0.2065 - acc: 0.9611\n",
            "Epoch 74/100\n",
            "159571/159571 [==============================] - 319s 2ms/step - loss: 0.2067 - acc: 0.9617\n",
            "Epoch 75/100\n",
            "159571/159571 [==============================] - 322s 2ms/step - loss: 0.2091 - acc: 0.9606\n",
            "Epoch 76/100\n",
            "159571/159571 [==============================] - 328s 2ms/step - loss: 0.2089 - acc: 0.9607\n",
            "Epoch 77/100\n",
            "159571/159571 [==============================] - 326s 2ms/step - loss: 0.2077 - acc: 0.9598\n",
            "Epoch 78/100\n",
            "159571/159571 [==============================] - 326s 2ms/step - loss: 0.2076 - acc: 0.9596\n",
            "Epoch 79/100\n",
            "159571/159571 [==============================] - 324s 2ms/step - loss: 0.2073 - acc: 0.9613\n",
            "Epoch 80/100\n",
            "159571/159571 [==============================] - 323s 2ms/step - loss: 0.2064 - acc: 0.9616\n",
            "Epoch 81/100\n",
            "159571/159571 [==============================] - 317s 2ms/step - loss: 0.2067 - acc: 0.9616\n",
            "Epoch 82/100\n",
            "159571/159571 [==============================] - 328s 2ms/step - loss: 0.2068 - acc: 0.9610\n",
            "Epoch 83/100\n",
            "159571/159571 [==============================] - 323s 2ms/step - loss: 0.2070 - acc: 0.9610\n",
            "Epoch 84/100\n",
            "159571/159571 [==============================] - 331s 2ms/step - loss: 0.2067 - acc: 0.9626\n",
            "Epoch 85/100\n",
            "159571/159571 [==============================] - 319s 2ms/step - loss: 0.2065 - acc: 0.9621\n",
            "Epoch 86/100\n",
            "159571/159571 [==============================] - 328s 2ms/step - loss: 0.2068 - acc: 0.9616\n",
            "Epoch 87/100\n",
            "159571/159571 [==============================] - 333s 2ms/step - loss: 0.2076 - acc: 0.9614\n",
            "Epoch 88/100\n",
            "159571/159571 [==============================] - 330s 2ms/step - loss: 0.2068 - acc: 0.9617\n",
            "Epoch 89/100\n",
            "159571/159571 [==============================] - 326s 2ms/step - loss: 0.2061 - acc: 0.9633\n",
            "Epoch 90/100\n",
            "159571/159571 [==============================] - 319s 2ms/step - loss: 0.2061 - acc: 0.9632\n",
            "Epoch 91/100\n",
            "159571/159571 [==============================] - 318s 2ms/step - loss: 0.2063 - acc: 0.9625\n",
            "Epoch 92/100\n",
            "159571/159571 [==============================] - 317s 2ms/step - loss: 0.2063 - acc: 0.9641\n",
            "Epoch 93/100\n",
            "159571/159571 [==============================] - 316s 2ms/step - loss: 0.2086 - acc: 0.9631\n",
            "Epoch 94/100\n",
            "159571/159571 [==============================] - 318s 2ms/step - loss: 0.2068 - acc: 0.9625\n",
            "Epoch 95/100\n",
            "159571/159571 [==============================] - 319s 2ms/step - loss: 0.2065 - acc: 0.9632\n",
            "Epoch 96/100\n",
            "159571/159571 [==============================] - 318s 2ms/step - loss: 0.2063 - acc: 0.9629\n",
            "Epoch 97/100\n",
            "159571/159571 [==============================] - 320s 2ms/step - loss: 0.2063 - acc: 0.9622\n",
            "Epoch 98/100\n",
            "159571/159571 [==============================] - 318s 2ms/step - loss: 0.2059 - acc: 0.9615\n",
            "Epoch 99/100\n",
            "159571/159571 [==============================] - 321s 2ms/step - loss: 0.2055 - acc: 0.9623\n",
            "Epoch 100/100\n",
            "159571/159571 [==============================] - 322s 2ms/step - loss: 0.2054 - acc: 0.9619\n"
          ],
          "name": "stdout"
        }
      ]
    },
    {
      "cell_type": "code",
      "metadata": {
        "id": "N5OXgIQy66O5",
        "colab_type": "code",
        "outputId": "b7016698-98a1-468e-ec06-114b7d66dd97",
        "colab": {
          "base_uri": "https://localhost:8080/",
          "height": 130
        }
      },
      "source": [
        "def prediction():\n",
        "    prediction = model.predict(x_test,verbose = 0)\n",
        "    for i in range(2000):\n",
        "        t_predict = prediction[i]\n",
        "        for j in range(len(t_predict)):\n",
        "            if(t_predict[j]>0.5):\n",
        "                \n",
        "                "
      ],
      "execution_count": 0,
      "outputs": [
        {
          "output_type": "error",
          "ename": "SyntaxError",
          "evalue": "ignored",
          "traceback": [
            "\u001b[0;36m  File \u001b[0;32m\"<ipython-input-85-1cb6f174b7c0>\"\u001b[0;36m, line \u001b[0;32m8\u001b[0m\n\u001b[0;31m    \u001b[0m\n\u001b[0m    ^\u001b[0m\n\u001b[0;31mSyntaxError\u001b[0m\u001b[0;31m:\u001b[0m unexpected EOF while parsing\n"
          ]
        }
      ]
    },
    {
      "cell_type": "code",
      "metadata": {
        "id": "zLKysQLrKAKq",
        "colab_type": "code",
        "outputId": "998c9ef9-1e52-499c-d17c-958080510050",
        "colab": {
          "base_uri": "https://localhost:8080/",
          "height": 34
        }
      },
      "source": [
        "print(x_test.shape)"
      ],
      "execution_count": 0,
      "outputs": [
        {
          "output_type": "stream",
          "text": [
            "(2000, 100)\n"
          ],
          "name": "stdout"
        }
      ]
    },
    {
      "cell_type": "code",
      "metadata": {
        "id": "Ds6gME-cKCNL",
        "colab_type": "code",
        "outputId": "49b49d6f-69e9-46a3-c278-2d8e364c4476",
        "colab": {
          "base_uri": "https://localhost:8080/",
          "height": 243
        }
      },
      "source": [
        "# for i in range(2000):\n",
        "# print(x_test[0].shape)\n",
        "# print(x_test[0])\n",
        "# predict = model.predict(x_test)\n",
        "print(predict)"
      ],
      "execution_count": 0,
      "outputs": [
        {
          "output_type": "stream",
          "text": [
            "[[7.7247369e-01 3.9043754e-02 3.9838210e-01 2.3434818e-02 5.5277014e-01\n",
            "  4.2047799e-03]\n",
            " [7.3964947e-01 9.7271204e-03 5.7761294e-01 1.6030371e-03 1.8508497e-01\n",
            "  5.6270063e-03]\n",
            " [6.8771958e-01 1.4411628e-02 5.0319332e-01 1.2647063e-02 2.5160670e-01\n",
            "  9.9028051e-03]\n",
            " ...\n",
            " [8.0542046e-01 7.1884096e-03 2.7680922e-01 9.4074845e-02 1.3244742e-01\n",
            "  1.6197562e-04]\n",
            " [8.6329925e-01 2.6610494e-04 1.9063950e-02 3.7279427e-03 9.2408359e-03\n",
            "  8.5555434e-02]\n",
            " [8.0405450e-01 1.6441911e-02 5.0494462e-01 3.6408603e-02 1.4119947e-01\n",
            "  1.2724996e-03]]\n"
          ],
          "name": "stdout"
        }
      ]
    },
    {
      "cell_type": "code",
      "metadata": {
        "id": "lKvZbhsDKmoK",
        "colab_type": "code",
        "outputId": "57dd2415-88a4-481d-aa4f-c715d2e2379c",
        "colab": {
          "base_uri": "https://localhost:8080/",
          "height": 243
        }
      },
      "source": [
        "df = pd.read_csv('/content/drive/My Drive/extracted_data/mamidi_project/data/cleanTestLabels2000.csv')\n",
        "df.info()"
      ],
      "execution_count": 0,
      "outputs": [
        {
          "output_type": "stream",
          "text": [
            "<class 'pandas.core.frame.DataFrame'>\n",
            "RangeIndex: 2000 entries, 0 to 1999\n",
            "Data columns (total 8 columns):\n",
            "Unnamed: 0       2000 non-null int64\n",
            "id               2000 non-null object\n",
            "toxic            2000 non-null int64\n",
            "severe_toxic     2000 non-null int64\n",
            "obscene          2000 non-null int64\n",
            "threat           2000 non-null int64\n",
            "insult           2000 non-null int64\n",
            "identity_hate    2000 non-null int64\n",
            "dtypes: int64(7), object(1)\n",
            "memory usage: 125.1+ KB\n"
          ],
          "name": "stdout"
        }
      ]
    },
    {
      "cell_type": "code",
      "metadata": {
        "id": "swbON6rKKr6a",
        "colab_type": "code",
        "outputId": "583b6edb-bdb9-4363-c621-2d8abde9a6bd",
        "colab": {
          "base_uri": "https://localhost:8080/",
          "height": 278
        }
      },
      "source": [
        "print(model.summary())"
      ],
      "execution_count": 97,
      "outputs": [
        {
          "output_type": "stream",
          "text": [
            "Model: \"sequential_6\"\n",
            "_________________________________________________________________\n",
            "Layer (type)                 Output Shape              Param #   \n",
            "=================================================================\n",
            "embedding_6 (Embedding)      (None, 100, 100)          2000000   \n",
            "_________________________________________________________________\n",
            "lstm_6 (LSTM)                (None, 100)               80400     \n",
            "_________________________________________________________________\n",
            "dense_6 (Dense)              (None, 7)                 707       \n",
            "=================================================================\n",
            "Total params: 2,081,107\n",
            "Trainable params: 2,081,107\n",
            "Non-trainable params: 0\n",
            "_________________________________________________________________\n",
            "None\n"
          ],
          "name": "stdout"
        }
      ]
    },
    {
      "cell_type": "code",
      "metadata": {
        "id": "h35If_fgLpA8",
        "colab_type": "code",
        "colab": {}
      },
      "source": [
        "model.save(\"/content/drive/My Drive/extracted_data/mamidi_project/mamidi_lstm_f.h5\")"
      ],
      "execution_count": 0,
      "outputs": []
    },
    {
      "cell_type": "code",
      "metadata": {
        "id": "9ZvTBFXj5FXs",
        "colab_type": "code",
        "colab": {}
      },
      "source": [
        "predict = model.predict(x_test,verbose = 0)"
      ],
      "execution_count": 0,
      "outputs": []
    },
    {
      "cell_type": "code",
      "metadata": {
        "id": "eR-dOFFgNeqs",
        "colab_type": "code",
        "outputId": "453b0aa1-7c28-4d00-c153-b29f9a75e392",
        "colab": {
          "base_uri": "https://localhost:8080/",
          "height": 139
        }
      },
      "source": [
        "print((test_labels))"
      ],
      "execution_count": 0,
      "outputs": [
        {
          "output_type": "stream",
          "text": [
            "[[0 0 0 0 0 0]\n",
            " [0 0 0 0 0 0]\n",
            " [0 0 0 0 0 0]\n",
            " ...\n",
            " [0 0 0 0 0 0]\n",
            " [0 0 0 0 0 0]\n",
            " [0 0 0 0 0 0]]\n"
          ],
          "name": "stdout"
        }
      ]
    },
    {
      "cell_type": "code",
      "metadata": {
        "id": "-wa17icsNiW8",
        "colab_type": "code",
        "outputId": "492cd57a-df96-456f-8144-61df6879b6e6",
        "colab": {
          "base_uri": "https://localhost:8080/",
          "height": 243
        }
      },
      "source": [
        "print(predict)"
      ],
      "execution_count": 0,
      "outputs": [
        {
          "output_type": "stream",
          "text": [
            "[[4.58668113e-01 1.16527081e-05 4.92060184e-03 1.08480453e-05\n",
            "  7.25272298e-03 1.45852566e-04]\n",
            " [5.87355018e-01 4.05609608e-05 2.79492140e-03 1.87814236e-04\n",
            "  6.14144325e-01 1.22398138e-04]\n",
            " [7.08585143e-01 1.13248825e-05 2.79068947e-04 7.74860382e-05\n",
            "  2.40087509e-04 1.08450651e-04]\n",
            " ...\n",
            " [7.93734312e-01 2.61157751e-04 2.83259153e-03 4.77850437e-04\n",
            "  1.30653381e-04 1.09702349e-04]\n",
            " [1.44634157e-01 7.62939453e-06 7.18027353e-04 5.80221415e-04\n",
            "  1.20672077e-01 7.11679459e-04]\n",
            " [5.76595485e-01 1.15334988e-05 3.60280275e-04 3.11166048e-04\n",
            "  2.46629119e-03 1.31189823e-04]]\n"
          ],
          "name": "stdout"
        }
      ]
    },
    {
      "cell_type": "code",
      "metadata": {
        "id": "LDWFJ2IqXT-y",
        "colab_type": "code",
        "outputId": "9ca71b52-478c-4109-fadd-fe12295f8326",
        "colab": {
          "base_uri": "https://localhost:8080/",
          "height": 165
        }
      },
      "source": [
        "print(df['toxic'])"
      ],
      "execution_count": 0,
      "outputs": [
        {
          "output_type": "error",
          "ename": "NameError",
          "evalue": "ignored",
          "traceback": [
            "\u001b[0;31m---------------------------------------------------------------------------\u001b[0m",
            "\u001b[0;31mNameError\u001b[0m                                 Traceback (most recent call last)",
            "\u001b[0;32m<ipython-input-46-783da771d1a1>\u001b[0m in \u001b[0;36m<module>\u001b[0;34m()\u001b[0m\n\u001b[0;32m----> 1\u001b[0;31m \u001b[0mprint\u001b[0m\u001b[0;34m(\u001b[0m\u001b[0mdf\u001b[0m\u001b[0;34m[\u001b[0m\u001b[0;34m'toxic'\u001b[0m\u001b[0;34m]\u001b[0m\u001b[0;34m)\u001b[0m\u001b[0;34m\u001b[0m\u001b[0;34m\u001b[0m\u001b[0m\n\u001b[0m",
            "\u001b[0;31mNameError\u001b[0m: name 'df' is not defined"
          ]
        }
      ]
    },
    {
      "cell_type": "code",
      "metadata": {
        "id": "L2HLf-WCXenP",
        "colab_type": "code",
        "outputId": "d10e9f66-6d92-4d37-99ab-3294eb3fbb4e",
        "colab": {
          "base_uri": "https://localhost:8080/",
          "height": 69
        }
      },
      "source": [
        "from sklearn.metrics import hamming_loss\n",
        "from sklearn.metrics import accuracy_score\n",
        "from sklearn.metrics import log_loss\n",
        "\n",
        "#calculate score\n",
        "loss = log_loss(nt_test_labels,predict)\n",
        "print(\"Log_loss : {}\".format(loss))\n",
        "predict = np.round(predict)\n",
        "loss = hamming_loss(nt_test_labels,predict)\n",
        "print(\"Hamming_loss : {}\".format(loss*100))\n",
        "accuracy = accuracy_score(nt_test_labels,predict)\n",
        "print(\"Accuracy : {}\".format(accuracy*100))"
      ],
      "execution_count": 28,
      "outputs": [
        {
          "output_type": "stream",
          "text": [
            "Log_loss : 1.9098137660721075\n",
            "Hamming_loss : 4.80535416507477\n",
            "Accuracy : 81.26986124657836\n"
          ],
          "name": "stdout"
        }
      ]
    },
    {
      "cell_type": "code",
      "metadata": {
        "id": "K4zewygE5v0p",
        "colab_type": "code",
        "colab": {}
      },
      "source": [
        ""
      ],
      "execution_count": 0,
      "outputs": []
    }
  ]
}