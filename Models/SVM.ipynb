{
  "nbformat": 4,
  "nbformat_minor": 0,
  "metadata": {
    "colab": {
      "name": "SVM.ipynb",
      "provenance": [],
      "collapsed_sections": []
    },
    "kernelspec": {
      "name": "python3",
      "display_name": "Python 3"
    }
  },
  "cells": [
    {
      "cell_type": "code",
      "metadata": {
        "id": "doGV3l5s8xDG",
        "colab_type": "code",
        "outputId": "4dbb7585-0792-4870-b309-52567f19c525",
        "colab": {
          "base_uri": "https://localhost:8080/",
          "height": 122
        }
      },
      "source": [
        "from google.colab import drive\n",
        "drive.mount('/content/drive')"
      ],
      "execution_count": 1,
      "outputs": [
        {
          "output_type": "stream",
          "text": [
            "Go to this URL in a browser: https://accounts.google.com/o/oauth2/auth?client_id=947318989803-6bn6qk8qdgf4n4g3pfee6491hc0brc4i.apps.googleusercontent.com&redirect_uri=urn%3aietf%3awg%3aoauth%3a2.0%3aoob&response_type=code&scope=email%20https%3a%2f%2fwww.googleapis.com%2fauth%2fdocs.test%20https%3a%2f%2fwww.googleapis.com%2fauth%2fdrive%20https%3a%2f%2fwww.googleapis.com%2fauth%2fdrive.photos.readonly%20https%3a%2f%2fwww.googleapis.com%2fauth%2fpeopleapi.readonly\n",
            "\n",
            "Enter your authorization code:\n",
            "··········\n",
            "Mounted at /content/drive\n"
          ],
          "name": "stdout"
        }
      ]
    },
    {
      "cell_type": "code",
      "metadata": {
        "id": "1fVhC3U3_T-K",
        "colab_type": "code",
        "outputId": "e5433e35-401f-4408-b5be-17ceb9effea0",
        "colab": {
          "base_uri": "https://localhost:8080/",
          "height": 122
        }
      },
      "source": [
        "!pip install scikit-multilearn"
      ],
      "execution_count": 2,
      "outputs": [
        {
          "output_type": "stream",
          "text": [
            "Collecting scikit-multilearn\n",
            "\u001b[?25l  Downloading https://files.pythonhosted.org/packages/bb/1f/e6ff649c72a1cdf2c7a1d31eb21705110ce1c5d3e7e26b2cc300e1637272/scikit_multilearn-0.2.0-py3-none-any.whl (89kB)\n",
            "\r\u001b[K     |███▊                            | 10kB 19.6MB/s eta 0:00:01\r\u001b[K     |███████▍                        | 20kB 6.6MB/s eta 0:00:01\r\u001b[K     |███████████                     | 30kB 9.3MB/s eta 0:00:01\r\u001b[K     |██████████████▊                 | 40kB 5.9MB/s eta 0:00:01\r\u001b[K     |██████████████████▍             | 51kB 7.2MB/s eta 0:00:01\r\u001b[K     |██████████████████████          | 61kB 8.4MB/s eta 0:00:01\r\u001b[K     |█████████████████████████▊      | 71kB 9.6MB/s eta 0:00:01\r\u001b[K     |█████████████████████████████▍  | 81kB 10.7MB/s eta 0:00:01\r\u001b[K     |████████████████████████████████| 92kB 6.6MB/s \n",
            "\u001b[?25hInstalling collected packages: scikit-multilearn\n",
            "Successfully installed scikit-multilearn-0.2.0\n"
          ],
          "name": "stdout"
        }
      ]
    },
    {
      "cell_type": "code",
      "metadata": {
        "id": "Ysq2mR1J88pP",
        "colab_type": "code",
        "colab": {}
      },
      "source": [
        "from sklearn.metrics import classification_report, confusion_matrix\n",
        "\n",
        "import pickle\n",
        "import pandas as pd\n",
        "import numpy as np\n",
        "\n",
        "from skmultilearn.problem_transform import BinaryRelevance\n",
        "from sklearn.model_selection import GridSearchCV\n",
        "from sklearn.naive_bayes import MultinomialNB\n",
        "from sklearn.svm import SVC\n",
        "\n",
        "from sklearn.metrics import hamming_loss\n",
        "from sklearn.metrics import accuracy_score\n",
        "from sklearn.metrics import log_loss"
      ],
      "execution_count": 0,
      "outputs": []
    },
    {
      "cell_type": "code",
      "metadata": {
        "id": "Uw3S_7INACcS",
        "colab_type": "code",
        "colab": {}
      },
      "source": [
        "## GLOVE EMBEDDINGS\n",
        "\n",
        "Column_List = [ \"id\", \"comment_text\"]\n",
        "Label_List = [\"toxic\", \"severe_toxic\", \"obscene\", \"threat\", \"insult\", \"identity_hate\"]\n",
        "Vector_Size = 300\n",
        "Embedding_Cols = [str(i) for i in range(Vector_Size)]\n",
        "Column_List.extend(Embedding_Cols)\n",
        "Column_List.extend(Label_List)\n",
        "\n",
        "# Train_Embedding_FilePath = \"/content/drive/My Drive/Train_Glove_Embeddings.csv\"\n",
        "Train_Embedding_FilePath = \"/content/drive/My Drive/cleanTrain8000_Glove_Embeddings.csv\"\n",
        "# Test_Embedding_FilePath = \"/content/drive/My Drive/Test_Glove_Embeddings.csv\"\n",
        "Test_Embedding_FilePath = \"/content/drive/My Drive/cleanTest2000_Glove_Embeddings.csv\"\n",
        "\n",
        "test_data = pd.read_csv(Test_Embedding_FilePath, usecols=Column_List)\n",
        "train_data = pd.read_csv(Train_Embedding_FilePath, usecols=Column_List)\n",
        "train_data = train_data.fillna(1e-10)\n",
        "test_data = test_data.fillna(1e-10)\n",
        "\n",
        "X_train = train_data[Embedding_Cols]\n",
        "Y_train = train_data[Label_List]\n",
        "Y_train = Y_train.astype('int')\n",
        "\n",
        "X_test = test_data[Embedding_Cols]\n",
        "Y_test = test_data[Label_List]\n",
        "Y_test = Y_test.astype('int')\n"
      ],
      "execution_count": 0,
      "outputs": []
    },
    {
      "cell_type": "code",
      "metadata": {
        "id": "xn4gHMw4LSXY",
        "colab_type": "code",
        "colab": {
          "base_uri": "https://localhost:8080/",
          "height": 136
        },
        "outputId": "e88c5278-4995-40aa-e126-ca847b02bdcf"
      },
      "source": [
        "classifier1 = BinaryRelevance(\n",
        "    classifier = SVC(kernel=\"linear\", probability = True),\n",
        "    require_dense = [False, True],\n",
        "    \n",
        ")\n",
        "\n",
        "# train\n",
        "classifier1.fit(X_train, Y_train)"
      ],
      "execution_count": 5,
      "outputs": [
        {
          "output_type": "execute_result",
          "data": {
            "text/plain": [
              "BinaryRelevance(classifier=SVC(C=1.0, cache_size=200, class_weight=None,\n",
              "                               coef0=0.0, decision_function_shape='ovr',\n",
              "                               degree=3, gamma='auto_deprecated',\n",
              "                               kernel='linear', max_iter=-1, probability=True,\n",
              "                               random_state=None, shrinking=True, tol=0.001,\n",
              "                               verbose=False),\n",
              "                require_dense=[False, True])"
            ]
          },
          "metadata": {
            "tags": []
          },
          "execution_count": 5
        }
      ]
    },
    {
      "cell_type": "code",
      "metadata": {
        "id": "F_ETVd0YMVvA",
        "colab_type": "code",
        "colab": {
          "base_uri": "https://localhost:8080/",
          "height": 68
        },
        "outputId": "bcfb243c-3eef-45b2-d6e9-56e9805159e0"
      },
      "source": [
        "#predict\n",
        "predict = classifier1.predict_proba(X_test)\n",
        "predict = predict.toarray()\n",
        "\n",
        "predict_onehot = np.empty(predict.shape)\n",
        "for i in range(predict.shape[0]):\n",
        "  for j in range(predict.shape[1]):\n",
        "    if predict[i][j] < 0.5:\n",
        "      predict_onehot[i][j] = 0\n",
        "    else:\n",
        "      predict_onehot[i][j] = 1\n",
        "\n",
        "#calculate score\n",
        "loss = log_loss(Y_test,predict_onehot)\n",
        "print(\"Log_loss : {}\".format(loss))\n",
        "predict_onehot = np.round(predict_onehot)\n",
        "loss = hamming_loss(Y_test,predict_onehot)\n",
        "print(\"Hamming_loss : {}\".format(loss*100))\n",
        "accuracy = accuracy_score(Y_test,predict_onehot)\n",
        "print(\"Accuracy : {}\".format(accuracy*100))"
      ],
      "execution_count": 6,
      "outputs": [
        {
          "output_type": "stream",
          "text": [
            "Log_loss : 1.8749015724672382\n",
            "Hamming_loss : 3.266666666666666\n",
            "Accuracy : 88.25\n"
          ],
          "name": "stdout"
        }
      ]
    },
    {
      "cell_type": "code",
      "metadata": {
        "id": "R3_iin4nMD3Q",
        "colab_type": "code",
        "colab": {
          "base_uri": "https://localhost:8080/",
          "height": 343
        },
        "outputId": "a6181f91-3b27-4a73-9ae3-8f6fdd65024a"
      },
      "source": [
        "classifier2 = BinaryRelevance(\n",
        "    classifier = SVC(kernel=\"rbf\",  probability = True),\n",
        "    require_dense = [False, True]\n",
        ")\n",
        "\n",
        "# train\n",
        "classifier2.fit(X_train, Y_train)"
      ],
      "execution_count": 7,
      "outputs": [
        {
          "output_type": "stream",
          "text": [
            "/usr/local/lib/python3.6/dist-packages/sklearn/svm/base.py:193: FutureWarning: The default value of gamma will change from 'auto' to 'scale' in version 0.22 to account better for unscaled features. Set gamma explicitly to 'auto' or 'scale' to avoid this warning.\n",
            "  \"avoid this warning.\", FutureWarning)\n",
            "/usr/local/lib/python3.6/dist-packages/sklearn/svm/base.py:193: FutureWarning: The default value of gamma will change from 'auto' to 'scale' in version 0.22 to account better for unscaled features. Set gamma explicitly to 'auto' or 'scale' to avoid this warning.\n",
            "  \"avoid this warning.\", FutureWarning)\n",
            "/usr/local/lib/python3.6/dist-packages/sklearn/svm/base.py:193: FutureWarning: The default value of gamma will change from 'auto' to 'scale' in version 0.22 to account better for unscaled features. Set gamma explicitly to 'auto' or 'scale' to avoid this warning.\n",
            "  \"avoid this warning.\", FutureWarning)\n",
            "/usr/local/lib/python3.6/dist-packages/sklearn/svm/base.py:193: FutureWarning: The default value of gamma will change from 'auto' to 'scale' in version 0.22 to account better for unscaled features. Set gamma explicitly to 'auto' or 'scale' to avoid this warning.\n",
            "  \"avoid this warning.\", FutureWarning)\n",
            "/usr/local/lib/python3.6/dist-packages/sklearn/svm/base.py:193: FutureWarning: The default value of gamma will change from 'auto' to 'scale' in version 0.22 to account better for unscaled features. Set gamma explicitly to 'auto' or 'scale' to avoid this warning.\n",
            "  \"avoid this warning.\", FutureWarning)\n",
            "/usr/local/lib/python3.6/dist-packages/sklearn/svm/base.py:193: FutureWarning: The default value of gamma will change from 'auto' to 'scale' in version 0.22 to account better for unscaled features. Set gamma explicitly to 'auto' or 'scale' to avoid this warning.\n",
            "  \"avoid this warning.\", FutureWarning)\n"
          ],
          "name": "stderr"
        },
        {
          "output_type": "execute_result",
          "data": {
            "text/plain": [
              "BinaryRelevance(classifier=SVC(C=1.0, cache_size=200, class_weight=None,\n",
              "                               coef0=0.0, decision_function_shape='ovr',\n",
              "                               degree=3, gamma='auto_deprecated', kernel='rbf',\n",
              "                               max_iter=-1, probability=True, random_state=None,\n",
              "                               shrinking=True, tol=0.001, verbose=False),\n",
              "                require_dense=[False, True])"
            ]
          },
          "metadata": {
            "tags": []
          },
          "execution_count": 7
        }
      ]
    },
    {
      "cell_type": "code",
      "metadata": {
        "id": "BnUKX4ItMH4N",
        "colab_type": "code",
        "colab": {
          "base_uri": "https://localhost:8080/",
          "height": 68
        },
        "outputId": "db662e6c-7719-4f45-9914-c94c92f0317c"
      },
      "source": [
        "# predict\n",
        "predict = classifier2.predict_proba(X_test)\n",
        "predict = predict.toarray()\n",
        "\n",
        "predict_onehot = np.empty(predict.shape)\n",
        "for i in range(predict.shape[0]):\n",
        "  for j in range(predict.shape[1]):\n",
        "    if predict[i][j] < 0.5:\n",
        "      predict_onehot[i][j] = 0\n",
        "    else:\n",
        "      predict_onehot[i][j] = 1\n",
        "\n",
        "#calculate score\n",
        "loss = log_loss(Y_test,predict_onehot)\n",
        "print(\"Log_loss : {}\".format(loss))\n",
        "predict_onehot = np.round(predict_onehot)\n",
        "loss = hamming_loss(Y_test,predict_onehot)\n",
        "print(\"Hamming_loss : {}\".format(loss*100))\n",
        "accuracy = accuracy_score(Y_test,predict_onehot)\n",
        "print(\"Accuracy : {}\".format(accuracy*100))"
      ],
      "execution_count": 8,
      "outputs": [
        {
          "output_type": "stream",
          "text": [
            "Log_loss : 1.6684345038295405\n",
            "Hamming_loss : 3.325\n",
            "Accuracy : 87.55\n"
          ],
          "name": "stdout"
        }
      ]
    },
    {
      "cell_type": "code",
      "metadata": {
        "id": "ZOmr0SXZAHZI",
        "colab_type": "code",
        "colab": {}
      },
      "source": [
        "# ## CROSS VALIDATION\n",
        "# %%capture\n",
        "\n",
        "# #define parameters for using in param grid\n",
        "# parameters = [\n",
        "#     {\n",
        "#         'classifier': [SVC()],\n",
        "#         'classifier__kernel': ['rbf', 'linear'],\n",
        "#     }\n",
        "# ]\n",
        "\n",
        "# #start fitting process\n",
        "# grid = GridSearchCV(BinaryRelevance(), parameters, scoring='accuracy',refit=True)\n",
        "# grid_result = grid.fit(X_train, Y_train)"
      ],
      "execution_count": 0,
      "outputs": []
    },
    {
      "cell_type": "code",
      "metadata": {
        "id": "DjujZLI3B3QK",
        "colab_type": "code",
        "colab": {}
      },
      "source": [
        "# print(grid_result)\n",
        "# print('Best score : {}'.format(grid.best_score_))\n",
        "# print('Best params : {}'.format(grid.best_params_))"
      ],
      "execution_count": 0,
      "outputs": []
    },
    {
      "cell_type": "code",
      "metadata": {
        "id": "IO_0mzGQB8a0",
        "colab_type": "code",
        "colab": {}
      },
      "source": [
        "# predictions = grid.predict(X_test)\n",
        "# predict = grid.predict_proba(X_test)\n",
        "\n",
        "# #calculate score\n",
        "# loss = log_loss(Y_test,predict)\n",
        "# print(\"Log_loss : {}\".format(loss))\n",
        "# predict = np.round(predict)\n",
        "# loss = hamming_loss(Y_test,predict)\n",
        "# print(\"Hamming_loss : {}\".format(loss*100))\n",
        "# accuracy = accuracy_score(Y_test,predict)\n",
        "# print(\"Accuracy : {}\".format(accuracy*100))"
      ],
      "execution_count": 0,
      "outputs": []
    }
  ]
}