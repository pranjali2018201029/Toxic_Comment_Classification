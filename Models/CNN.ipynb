{
  "nbformat": 4,
  "nbformat_minor": 0,
  "metadata": {
    "colab": {
      "name": "CNN.ipynb",
      "provenance": [],
      "collapsed_sections": []
    },
    "kernelspec": {
      "name": "python3",
      "display_name": "Python 3"
    }
  },
  "cells": [
    {
      "cell_type": "code",
      "metadata": {
        "id": "wlyGooxGs5p8",
        "colab_type": "code",
        "colab": {
          "base_uri": "https://localhost:8080/",
          "height": 80
        },
        "outputId": "b64bf97d-a612-4943-dfd3-f8e601885303"
      },
      "source": [
        "import pandas as pd\n",
        "from keras.models import Sequential\n",
        "from keras.layers import Dense, Dropout, Activation\n",
        "from keras.layers import Conv1D, GlobalMaxPooling1D\n",
        "from keras import optimizers\n",
        "import numpy as np\n",
        "from sklearn.metrics import accuracy_score\n",
        "\n",
        "from sklearn.metrics import hamming_loss\n",
        "from sklearn.metrics import accuracy_score\n",
        "from sklearn.metrics import log_loss"
      ],
      "execution_count": 1,
      "outputs": [
        {
          "output_type": "stream",
          "text": [
            "Using TensorFlow backend.\n"
          ],
          "name": "stderr"
        },
        {
          "output_type": "display_data",
          "data": {
            "text/html": [
              "<p style=\"color: red;\">\n",
              "The default version of TensorFlow in Colab will soon switch to TensorFlow 2.x.<br>\n",
              "We recommend you <a href=\"https://www.tensorflow.org/guide/migrate\" target=\"_blank\">upgrade</a> now \n",
              "or ensure your notebook will continue to use TensorFlow 1.x via the <code>%tensorflow_version 1.x</code> magic:\n",
              "<a href=\"https://colab.research.google.com/notebooks/tensorflow_version.ipynb\" target=\"_blank\">more info</a>.</p>\n"
            ],
            "text/plain": [
              "<IPython.core.display.HTML object>"
            ]
          },
          "metadata": {
            "tags": []
          }
        }
      ]
    },
    {
      "cell_type": "code",
      "metadata": {
        "id": "GjEPSd6LQ0Vl",
        "colab_type": "code",
        "outputId": "764acb6d-c0e8-4ed6-e641-e408d63cb093",
        "colab": {
          "base_uri": "https://localhost:8080/",
          "height": 122
        }
      },
      "source": [
        "from google.colab import drive\n",
        "drive.mount('/content/drive')"
      ],
      "execution_count": 2,
      "outputs": [
        {
          "output_type": "stream",
          "text": [
            "Go to this URL in a browser: https://accounts.google.com/o/oauth2/auth?client_id=947318989803-6bn6qk8qdgf4n4g3pfee6491hc0brc4i.apps.googleusercontent.com&redirect_uri=urn%3aietf%3awg%3aoauth%3a2.0%3aoob&response_type=code&scope=email%20https%3a%2f%2fwww.googleapis.com%2fauth%2fdocs.test%20https%3a%2f%2fwww.googleapis.com%2fauth%2fdrive%20https%3a%2f%2fwww.googleapis.com%2fauth%2fdrive.photos.readonly%20https%3a%2f%2fwww.googleapis.com%2fauth%2fpeopleapi.readonly\n",
            "\n",
            "Enter your authorization code:\n",
            "··········\n",
            "Mounted at /content/drive\n"
          ],
          "name": "stdout"
        }
      ]
    },
    {
      "cell_type": "code",
      "metadata": {
        "id": "ktZ4iUie7mZi",
        "colab_type": "code",
        "colab": {}
      },
      "source": [
        "def loadData(path):\n",
        "  data = pd.read_csv(path)\n",
        "  data = data.dropna()\n",
        "  print(\"Dimensions of dataset:\", data.shape)\n",
        "  print(data.columns)\n",
        "  print(data.head)\n",
        "  return data"
      ],
      "execution_count": 0,
      "outputs": []
    },
    {
      "cell_type": "code",
      "metadata": {
        "id": "b8UWrfCD7nog",
        "colab_type": "code",
        "outputId": "0476e85e-80d3-409f-b818-e1a3a379ec0f",
        "colab": {
          "base_uri": "https://localhost:8080/",
          "height": 731
        }
      },
      "source": [
        "#Load training data\n",
        "print(\"Loading Train data:\")\n",
        "trainData = loadData(\"/content/drive/My Drive/Train_Glove_Embeddings.csv\")\n",
        "\n",
        "#Load test data\n",
        "print(\"Loading Test data:\")\n",
        "testData = loadData(\"/content/drive/My Drive/Test_Glove_Embeddings.csv\")"
      ],
      "execution_count": 4,
      "outputs": [
        {
          "output_type": "stream",
          "text": [
            "Loading Train data:\n",
            "Dimensions of dataset: (159468, 309)\n",
            "Index(['Unnamed: 0', 'id', 'comment_text', '0', '1', '2', '3', '4', '5', '6',\n",
            "       ...\n",
            "       '296', '297', '298', '299', 'toxic', 'severe_toxic', 'obscene',\n",
            "       'threat', 'insult', 'identity_hate'],\n",
            "      dtype='object', length=309)\n",
            "<bound method NDFrame.head of         Unnamed: 0                id  ... insult  identity_hate\n",
            "0                0  0000997932d777bf  ...    0.0            0.0\n",
            "1                1  000103f0d9cfb60f  ...    0.0            0.0\n",
            "2                2  000113f07ec002fd  ...    0.0            0.0\n",
            "3                3  0001b41b1c6bb37e  ...    0.0            0.0\n",
            "4                4  0001d958c54c6e35  ...    0.0            0.0\n",
            "...            ...               ...  ...    ...            ...\n",
            "159546      159546  ffb47123b2d82762  ...    1.0            0.0\n",
            "159547      159547  ffb7b4c3d3ae5842  ...    0.0            0.0\n",
            "159548      159548  ffb93b0a0a1e78f9  ...    0.0            0.0\n",
            "159549      159549  ffb998f9749bd83e  ...    0.0            0.0\n",
            "159550      159550  ffba5332d6b8fd14  ...    0.0            0.0\n",
            "\n",
            "[159468 rows x 309 columns]>\n",
            "Loading Test data:\n",
            "Dimensions of dataset: (63380, 309)\n",
            "Index(['Unnamed: 0', 'id', 'comment_text', '0', '1', '2', '3', '4', '5', '6',\n",
            "       ...\n",
            "       '296', '297', '298', '299', 'toxic', 'severe_toxic', 'obscene',\n",
            "       'threat', 'insult', 'identity_hate'],\n",
            "      dtype='object', length=309)\n",
            "<bound method NDFrame.head of        Unnamed: 0                id  ... insult  identity_hate\n",
            "0               0  0001ea8717f6de06  ...      0              0\n",
            "1               1  000247e83dcc1211  ...      0              0\n",
            "2               2  0002f87b16116a7f  ...      0              0\n",
            "3               3  0003e1cccfd5a40a  ...      0              0\n",
            "4               4  00059ace3e3e9a53  ...      0              0\n",
            "...           ...               ...  ...    ...            ...\n",
            "63561       63561  fff8f64043129fa2  ...      0              0\n",
            "63562       63562  fff9d70fe0722906  ...      0              0\n",
            "63563       63563  fffa8a11c4378854  ...      0              0\n",
            "63564       63564  fffac2a094c8e0e2  ...      1              0\n",
            "63565       63565  fffb5451268fb5ba  ...      0              0\n",
            "\n",
            "[63380 rows x 309 columns]>\n"
          ],
          "name": "stdout"
        }
      ]
    },
    {
      "cell_type": "code",
      "metadata": {
        "id": "rXJrbsRn8ZeS",
        "colab_type": "code",
        "colab": {}
      },
      "source": [
        "def initilializeCNN(noOfFilters, kernelSize, dropOut):\n",
        "  model = Sequential()\n",
        "  model.add(Conv1D(filters = noOfFilters, kernel_size = kernelSize, activation='relu', input_shape=(300, 1)))\n",
        "  model.add(GlobalMaxPooling1D())\n",
        "  model.add(Dense(noOfFilters, activation='relu', kernel_initializer = \"random_uniform\"))\n",
        "  model.add(Dropout(dropOut))\n",
        "  model.add(Dense(6, activation='softmax'))\n",
        "  rmsprop = optimizers.RMSprop(lr = 0.001)\n",
        "  model.compile(loss='categorical_crossentropy', optimizer = rmsprop, metrics=['accuracy'])\n",
        "\n",
        "  return model"
      ],
      "execution_count": 0,
      "outputs": []
    },
    {
      "cell_type": "code",
      "metadata": {
        "id": "SRIq5BrnJk00",
        "colab_type": "code",
        "colab": {
          "base_uri": "https://localhost:8080/",
          "height": 292
        },
        "outputId": "39066bc9-6805-4745-ba78-5d9d115d04de"
      },
      "source": [
        "#Set model parameters\n",
        "model = initilializeCNN(64, 3, 0.2)"
      ],
      "execution_count": 6,
      "outputs": [
        {
          "output_type": "stream",
          "text": [
            "WARNING:tensorflow:From /usr/local/lib/python3.6/dist-packages/keras/backend/tensorflow_backend.py:66: The name tf.get_default_graph is deprecated. Please use tf.compat.v1.get_default_graph instead.\n",
            "\n",
            "WARNING:tensorflow:From /usr/local/lib/python3.6/dist-packages/keras/backend/tensorflow_backend.py:541: The name tf.placeholder is deprecated. Please use tf.compat.v1.placeholder instead.\n",
            "\n",
            "WARNING:tensorflow:From /usr/local/lib/python3.6/dist-packages/keras/backend/tensorflow_backend.py:4432: The name tf.random_uniform is deprecated. Please use tf.random.uniform instead.\n",
            "\n",
            "WARNING:tensorflow:From /usr/local/lib/python3.6/dist-packages/keras/backend/tensorflow_backend.py:148: The name tf.placeholder_with_default is deprecated. Please use tf.compat.v1.placeholder_with_default instead.\n",
            "\n",
            "WARNING:tensorflow:From /usr/local/lib/python3.6/dist-packages/keras/backend/tensorflow_backend.py:3733: calling dropout (from tensorflow.python.ops.nn_ops) with keep_prob is deprecated and will be removed in a future version.\n",
            "Instructions for updating:\n",
            "Please use `rate` instead of `keep_prob`. Rate should be set to `rate = 1 - keep_prob`.\n",
            "WARNING:tensorflow:From /usr/local/lib/python3.6/dist-packages/keras/optimizers.py:793: The name tf.train.Optimizer is deprecated. Please use tf.compat.v1.train.Optimizer instead.\n",
            "\n",
            "WARNING:tensorflow:From /usr/local/lib/python3.6/dist-packages/keras/backend/tensorflow_backend.py:3576: The name tf.log is deprecated. Please use tf.math.log instead.\n",
            "\n"
          ],
          "name": "stdout"
        }
      ]
    },
    {
      "cell_type": "code",
      "metadata": {
        "id": "e_PirLHTLhl4",
        "colab_type": "code",
        "colab": {
          "base_uri": "https://localhost:8080/",
          "height": 360
        },
        "outputId": "e76c9f0f-9cf7-4a11-ca80-ef576b3e3d8b"
      },
      "source": [
        "%%capture\n",
        "\n",
        "#Train model on training data\n",
        "trainX = np.array(trainData[trainData.columns[3:303]])\n",
        "trainX = trainX.reshape(trainX.shape[0], trainX.shape[1], 1)\n",
        "print(\"Training data input to model:\", trainX.shape)\n",
        "\n",
        "trainY = trainData[trainData.columns[303:]]\n",
        "# trainY = trainY.replace(0, 1e-10)\n",
        "trainY = np.array(trainY)\n",
        "print(\"Training labels input to model:\", trainY.shape)\n",
        "print(trainY)\n",
        "epochs = 2\n",
        "batch_size = 32\n",
        "\n",
        "model.fit(trainX, trainY, epochs=epochs, validation_split=0.1, batch_size = batch_size)"
      ],
      "execution_count": 7,
      "outputs": [
        {
          "output_type": "stream",
          "text": [
            "WARNING:tensorflow:From /usr/local/lib/python3.6/dist-packages/tensorflow_core/python/ops/math_grad.py:1424: where (from tensorflow.python.ops.array_ops) is deprecated and will be removed in a future version.\n",
            "Instructions for updating:\n",
            "Use tf.where in 2.0, which has the same broadcast rule as np.where\n",
            "WARNING:tensorflow:From /usr/local/lib/python3.6/dist-packages/keras/backend/tensorflow_backend.py:1033: The name tf.assign_add is deprecated. Please use tf.compat.v1.assign_add instead.\n",
            "\n",
            "WARNING:tensorflow:From /usr/local/lib/python3.6/dist-packages/keras/backend/tensorflow_backend.py:1020: The name tf.assign is deprecated. Please use tf.compat.v1.assign instead.\n",
            "\n",
            "WARNING:tensorflow:From /usr/local/lib/python3.6/dist-packages/keras/backend/tensorflow_backend.py:3005: The name tf.Session is deprecated. Please use tf.compat.v1.Session instead.\n",
            "\n",
            "WARNING:tensorflow:From /usr/local/lib/python3.6/dist-packages/keras/backend/tensorflow_backend.py:190: The name tf.get_default_session is deprecated. Please use tf.compat.v1.get_default_session instead.\n",
            "\n",
            "WARNING:tensorflow:From /usr/local/lib/python3.6/dist-packages/keras/backend/tensorflow_backend.py:197: The name tf.ConfigProto is deprecated. Please use tf.compat.v1.ConfigProto instead.\n",
            "\n",
            "WARNING:tensorflow:From /usr/local/lib/python3.6/dist-packages/keras/backend/tensorflow_backend.py:207: The name tf.global_variables is deprecated. Please use tf.compat.v1.global_variables instead.\n",
            "\n",
            "WARNING:tensorflow:From /usr/local/lib/python3.6/dist-packages/keras/backend/tensorflow_backend.py:216: The name tf.is_variable_initialized is deprecated. Please use tf.compat.v1.is_variable_initialized instead.\n",
            "\n",
            "WARNING:tensorflow:From /usr/local/lib/python3.6/dist-packages/keras/backend/tensorflow_backend.py:223: The name tf.variables_initializer is deprecated. Please use tf.compat.v1.variables_initializer instead.\n",
            "\n"
          ],
          "name": "stdout"
        }
      ]
    },
    {
      "cell_type": "code",
      "metadata": {
        "id": "x4X5dU53lEou",
        "colab_type": "code",
        "colab": {}
      },
      "source": [
        "def predict(model, threshold, testX):\n",
        "  predictions = model.predict(testX)\n",
        "  for i in range(predictions.shape[0]):\n",
        "    for j in range(predictions.shape[1]):\n",
        "      if predictions[i][j] < 0.5:\n",
        "        predictions[i][j] = 0\n",
        "      else:\n",
        "        predictions[i][j] = 1\n",
        "  return predictions"
      ],
      "execution_count": 0,
      "outputs": []
    },
    {
      "cell_type": "code",
      "metadata": {
        "id": "ZivVZCO8RWHx",
        "colab_type": "code",
        "outputId": "83fddf73-344b-4e11-9768-c9f9f15ecc55",
        "colab": {
          "base_uri": "https://localhost:8080/",
          "height": 289
        }
      },
      "source": [
        "#Evaluating on test data\n",
        "\n",
        "testX = np.array(testData[trainData.columns[3:303]])\n",
        "testX = testX.reshape(testX.shape[0], testX.shape[1], 1)\n",
        "print(\"Test data dimensions to model:\", testX.shape)\n",
        "\n",
        "testY = testData[testData.columns[303:]]\n",
        "# testY = testY.replace(0, 1e-10)\n",
        "testY = np.array(testY)\n",
        "print(\"Test features dimensions to model:\", testY.shape)\n",
        "print(\"Features:\", testY)\n",
        "\n",
        "predictions = predict(model, 0.5, testX)\n",
        "# print(predictions.shape)\n",
        "print(\"predictions:\", predictions)"
      ],
      "execution_count": 9,
      "outputs": [
        {
          "output_type": "stream",
          "text": [
            "Test data dimensions to model: (63380, 300, 1)\n",
            "Test features dimensions to model: (63380, 6)\n",
            "Features: [[0 0 0 0 0 0]\n",
            " [0 0 0 0 0 0]\n",
            " [0 0 0 0 0 0]\n",
            " ...\n",
            " [0 0 0 0 0 0]\n",
            " [1 0 1 0 1 0]\n",
            " [0 0 0 0 0 0]]\n",
            "predictions: [[0. 0. 0. 0. 0. 0.]\n",
            " [0. 0. 0. 0. 0. 0.]\n",
            " [0. 0. 0. 0. 0. 0.]\n",
            " ...\n",
            " [0. 0. 0. 0. 0. 0.]\n",
            " [0. 0. 0. 0. 0. 0.]\n",
            " [0. 0. 0. 0. 0. 0.]]\n"
          ],
          "name": "stdout"
        }
      ]
    },
    {
      "cell_type": "code",
      "metadata": {
        "id": "Yvfbi4TSpJCO",
        "colab_type": "code",
        "outputId": "0d6735e7-caa8-4f54-abf6-21df9ec2db63",
        "colab": {
          "base_uri": "https://localhost:8080/",
          "height": 68
        }
      },
      "source": [
        "#calculate score\n",
        "loss = log_loss(testY,predictions)\n",
        "print(\"Log_loss : {}\".format(loss))\n",
        "predictions = np.round(predictions)\n",
        "loss = hamming_loss(testY,predictions)\n",
        "print(\"Hamming_loss : {}\".format(loss*100))\n",
        "accuracy = accuracy_score(testY,predictions)\n",
        "print(\"Accuracy : {}\".format(accuracy*100))"
      ],
      "execution_count": 11,
      "outputs": [
        {
          "output_type": "stream",
          "text": [
            "Log_loss : 0.409633875419831\n",
            "Hamming_loss : 3.814031766067109\n",
            "Accuracy : 90.13411170716314\n"
          ],
          "name": "stdout"
        }
      ]
    }
  ]
}