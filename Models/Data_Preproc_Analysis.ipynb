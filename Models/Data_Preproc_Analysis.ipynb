{
  "nbformat": 4,
  "nbformat_minor": 0,
  "metadata": {
    "colab": {
      "name": "ToxicCommentClassification(1).ipynb",
      "provenance": [],
      "collapsed_sections": []
    },
    "kernelspec": {
      "name": "python3",
      "display_name": "Python 3"
    }
  },
  "cells": [
    {
      "cell_type": "code",
      "metadata": {
        "id": "IdgLNZ1ldJKj",
        "colab_type": "code",
        "colab": {}
      },
      "source": [
        "import pandas as pd\n",
        "import numpy as np\n",
        "from nltk.tokenize import RegexpTokenizer\n",
        "from nltk.corpus import stopwords\n",
        "import nltk\n",
        "import matplotlib.pyplot as plt\n",
        "import spacy\n",
        "from sklearn.ensemble import RandomForestClassifier\n",
        "from sklearn import metrics\n",
        "from sklearn.metrics import f1_score\n",
        "from sklearn.naive_bayes import GaussianNB\n",
        "# !pip install glove_python\n",
        "# from glove import Corpus, Glove\n",
        "from sklearn.model_selection import train_test_split"
      ],
      "execution_count": 0,
      "outputs": []
    },
    {
      "cell_type": "code",
      "metadata": {
        "id": "vHZNErgHfNgI",
        "colab_type": "code",
        "colab": {}
      },
      "source": [
        "def loadData(path):\n",
        "  data = pd.read_csv(path)\n",
        "  data = data.dropna()\n",
        "  print(\"Dimensions of dataset:\", data.shape)\n",
        "  print(data.columns)\n",
        "  return data"
      ],
      "execution_count": 0,
      "outputs": []
    },
    {
      "cell_type": "code",
      "metadata": {
        "id": "mA6rU8Y7sCrg",
        "colab_type": "code",
        "outputId": "9431db93-c210-48f2-bb97-cb4f1d461705",
        "colab": {
          "base_uri": "https://localhost:8080/",
          "height": 124
        }
      },
      "source": [
        "from google.colab import drive\n",
        "drive.mount('/content/drive')"
      ],
      "execution_count": 0,
      "outputs": [
        {
          "output_type": "stream",
          "text": [
            "Go to this URL in a browser: https://accounts.google.com/o/oauth2/auth?client_id=947318989803-6bn6qk8qdgf4n4g3pfee6491hc0brc4i.apps.googleusercontent.com&redirect_uri=urn%3aietf%3awg%3aoauth%3a2.0%3aoob&response_type=code&scope=email%20https%3a%2f%2fwww.googleapis.com%2fauth%2fdocs.test%20https%3a%2f%2fwww.googleapis.com%2fauth%2fdrive%20https%3a%2f%2fwww.googleapis.com%2fauth%2fdrive.photos.readonly%20https%3a%2f%2fwww.googleapis.com%2fauth%2fpeopleapi.readonly\n",
            "\n",
            "Enter your authorization code:\n",
            "··········\n",
            "Mounted at /content/drive\n"
          ],
          "name": "stdout"
        }
      ]
    },
    {
      "cell_type": "code",
      "metadata": {
        "id": "KCZOjodahKWl",
        "colab_type": "code",
        "colab": {}
      },
      "source": [
        "def preProcessData(data):\n",
        "  i = 0\n",
        "  for i in range(data.shape[0]):\n",
        "    #Tokenize on regex\n",
        "    postTokens = tokenizer.tokenize(data['comment_text'][i])\n",
        "    if i % 1000 == 0:\n",
        "      print(i, postTokens)\n",
        "      \n",
        "    lemtzdTokens = []\n",
        "    tokens = []\n",
        "    \n",
        "    #Remove stop words\n",
        "    for token in postTokens:\n",
        "      if token not in stopWords:\n",
        "        tokens.append(token)\n",
        "    tokenString = ' '.join(tokens)\n",
        "    \n",
        "    #Lowercase tokens\n",
        "    tokenString = tokenString.lower()\n",
        "    \n",
        "    #Lemmatize tokens\n",
        "    for token in nlp(tokenString):\n",
        "      lemtzdTokens.append(token.lemma_)\n",
        "    lemtzdTokens = ' '.join(lemtzdTokens)\n",
        "    if i % 1000 == 0:\n",
        "      print(lemtzdTokens)\n",
        "      print()\n",
        "    data['comment_text'][i] = lemtzdTokens\n",
        "  return data"
      ],
      "execution_count": 0,
      "outputs": []
    },
    {
      "cell_type": "code",
      "metadata": {
        "id": "72wZI1-zWtsv",
        "colab_type": "code",
        "colab": {}
      },
      "source": [
        "def dataAnalysis(data):\n",
        "  print(\"Number of samples:\", data.shape[0])\n",
        "\n",
        "  i = 0\n",
        "  commentLenStat = {}\n",
        "  for i in range(data.shape[0]):\n",
        "    comment = data.iloc[i]['comment_text']\n",
        "    commentLen = len(comment.split())\n",
        "    if commentLen in commentLenStat:\n",
        "      commentLenStat[commentLen] += 1\n",
        "    else:\n",
        "      commentLenStat[commentLen] = 1\n",
        "\n",
        "  lengths = []\n",
        "  counts = []\n",
        "  for key, val in sorted(commentLenStat.items()):\n",
        "    lengths.append(key)\n",
        "    counts.append(val)\n",
        "\n",
        "  plt.bar(lengths, counts)\n",
        "  plt.xlabel('Length of comment', fontsize=5)\n",
        "  plt.ylabel('No of comments', fontsize=5)\n",
        "  plt.title('Toxic Comment Classification')\n",
        "  plt.show()"
      ],
      "execution_count": 0,
      "outputs": []
    },
    {
      "cell_type": "code",
      "metadata": {
        "id": "aHaG1xbvfYKy",
        "colab_type": "code",
        "outputId": "e6f3b9f9-afb8-47e1-da51-84f554c18c4c",
        "colab": {
          "base_uri": "https://localhost:8080/",
          "height": 278
        }
      },
      "source": [
        "#Read train dataset\n",
        "print(\"Train Data\")\n",
        "trainData = loadData(\"train.csv\")\n",
        "\n",
        "#Read test dataset\n",
        "print(\"\\nTest Features\")\n",
        "testDataFeatures = loadData(\"test.csv\")\n",
        "print(\"\\nTest labels\")\n",
        "testDataLabels = loadData(\"test_labels.csv\")"
      ],
      "execution_count": 0,
      "outputs": [
        {
          "output_type": "stream",
          "text": [
            "Train Data\n",
            "Dimensions of dataset: (159571, 8)\n",
            "Index(['id', 'comment_text', 'toxic', 'severe_toxic', 'obscene', 'threat',\n",
            "       'insult', 'identity_hate'],\n",
            "      dtype='object')\n",
            "\n",
            "Test Features\n",
            "Dimensions of dataset: (153164, 2)\n",
            "Index(['id', 'comment_text'], dtype='object')\n",
            "\n",
            "Test labels\n",
            "Dimensions of dataset: (153164, 7)\n",
            "Index(['id', 'toxic', 'severe_toxic', 'obscene', 'threat', 'insult',\n",
            "       'identity_hate'],\n",
            "      dtype='object')\n"
          ],
          "name": "stdout"
        }
      ]
    },
    {
      "cell_type": "code",
      "metadata": {
        "id": "hs3GvQSVjD_0",
        "colab_type": "code",
        "colab": {}
      },
      "source": [
        "tokenizer = RegexpTokenizer('[a-zA-Z]+')\n",
        "nltk.download('stopwords')\n",
        "stopWords = set(stopwords.words('english'))\n",
        "nlp = spacy.load('en', disable=['parser', 'ner'])\n",
        "\n",
        "#Clean train dataset\n",
        "cleanTrainData = preProcessData(trainData)\n",
        "cleanTrainData.to_csv('cleanTrain.csv')\n",
        "\n",
        "#Clean test dataset\n",
        "cleanTestData = preProcessData(testDataFeatures)\n",
        "cleanTestData.to_csv('cleanTest.csv')"
      ],
      "execution_count": 0,
      "outputs": []
    },
    {
      "cell_type": "code",
      "metadata": {
        "id": "Ndf91swa674L",
        "colab_type": "code",
        "colab": {}
      },
      "source": [
        "#Above cells for loading and preprocessing implemented one time."
      ],
      "execution_count": 0,
      "outputs": []
    },
    {
      "cell_type": "code",
      "metadata": {
        "id": "06xZIaRpvZKa",
        "colab_type": "code",
        "outputId": "05fc95f1-2183-41ad-8c3e-043b944c6e65",
        "colab": {
          "base_uri": "https://localhost:8080/",
          "height": 191
        }
      },
      "source": [
        "#Load pre-processed train data\n",
        "cleanTrainData = loadData(\"cleanTrain.csv\")\n",
        "\n",
        "#Load pre-processed test data\n",
        "cleanTestData = loadData(\"cleanTest.csv\")\n",
        "\n",
        "#Load test labels\n",
        "testDataLabels = loadData(\"test_labels.csv\")"
      ],
      "execution_count": 0,
      "outputs": [
        {
          "output_type": "stream",
          "text": [
            "Dimensions of dataset: (159551, 9)\n",
            "Index(['Unnamed: 0', 'id', 'comment_text', 'toxic', 'severe_toxic', 'obscene',\n",
            "       'threat', 'insult', 'identity_hate'],\n",
            "      dtype='object')\n",
            "Dimensions of dataset: (152257, 3)\n",
            "Index(['Unnamed: 0', 'id', 'comment_text'], dtype='object')\n",
            "Dimensions of dataset: (153164, 7)\n",
            "Index(['id', 'toxic', 'severe_toxic', 'obscene', 'threat', 'insult',\n",
            "       'identity_hate'],\n",
            "      dtype='object')\n"
          ],
          "name": "stdout"
        }
      ]
    },
    {
      "cell_type": "code",
      "metadata": {
        "id": "uCi7ocTIUb8n",
        "colab_type": "code",
        "colab": {}
      },
      "source": [
        "#Drop unimportant columns\n",
        "cleanTrainData = cleanTrainData.drop(['Unnamed: 0'], axis=1)\n",
        "cleanTestData = cleanTestData.drop(['Unnamed: 0'], axis=1)"
      ],
      "execution_count": 0,
      "outputs": []
    },
    {
      "cell_type": "code",
      "metadata": {
        "id": "R_lpR7WCT9aT",
        "colab_type": "code",
        "outputId": "e9385021-5d46-409f-dff0-c56be411f155",
        "colab": {
          "base_uri": "https://localhost:8080/",
          "height": 86
        }
      },
      "source": [
        "#Merge test features and labels\n",
        "cleanTestData = pd.merge(cleanTestData, testDataLabels, how='inner')\n",
        "print(\"Test dimensions after merging:\", cleanTestData.shape)\n",
        "print(\"Test columns after merging:\", cleanTestData.columns)"
      ],
      "execution_count": 0,
      "outputs": [
        {
          "output_type": "stream",
          "text": [
            "Test dimensions after merging: (152257, 8)\n",
            "Test columns after merging: Index(['id', 'comment_text', 'toxic', 'severe_toxic', 'obscene', 'threat',\n",
            "       'insult', 'identity_hate'],\n",
            "      dtype='object')\n"
          ],
          "name": "stdout"
        }
      ]
    },
    {
      "cell_type": "code",
      "metadata": {
        "id": "GwTviSkbTiOa",
        "colab_type": "code",
        "outputId": "5327f9f9-71c7-4348-df0d-03453aedb7b9",
        "colab": {
          "base_uri": "https://localhost:8080/",
          "height": 52
        }
      },
      "source": [
        "#Drop unimportant rows (test rows with -1)\n",
        "dropRows = []\n",
        "for i in range(cleanTestData.shape[0]):\n",
        "  for j in range(2, 8):\n",
        "    if cleanTestData.iloc[i, j] == -1:\n",
        "      dropRows.append(i)\n",
        "      break\n",
        "  \n",
        "print(\"No. of Rows being dropped:\", len(dropRows))\n",
        "cleanTestData = cleanTestData.drop(cleanTestData.index[dropRows])\n",
        "\n",
        "print(\"Test data dimensions after dropping \", cleanTestData.shape)\n",
        "cleanTestData.to_csv('newCleanTest.csv')"
      ],
      "execution_count": 0,
      "outputs": [
        {
          "output_type": "stream",
          "text": [
            "No. of Rows being dropped: 0\n",
            "Test data dimensions after dropping  (63566, 8)\n"
          ],
          "name": "stdout"
        }
      ]
    },
    {
      "cell_type": "code",
      "metadata": {
        "id": "iSdfoLqKQg4E",
        "colab_type": "code",
        "outputId": "16ea6525-8107-4037-c862-6583d601e6ff",
        "colab": {
          "base_uri": "https://localhost:8080/",
          "height": 312
        }
      },
      "source": [
        "#Selecting less data for fast processing\n",
        "selectedCleanTrainData = cleanTrainData.sample(n = 8000)\n",
        "selectedCleanTrainData.to_csv('cleanTrain8000.csv')\n",
        "\n",
        "selectedCleanTestData = cleanTestData.sample(n = 2000)\n",
        "selectedCleanTestData.to_csv('cleanTest2000.csv')\n",
        "\n",
        "print(selectedCleanTrainData.shape)\n",
        "print(selectedCleanTrainData.columns)\n",
        "print(selectedCleanTestData.shape)\n",
        "print(selectedCleanTestData.columns)\n",
        "print(selectedCleanTestData.iloc[0])\n"
      ],
      "execution_count": 0,
      "outputs": [
        {
          "output_type": "stream",
          "text": [
            "(8000, 8)\n",
            "Index(['id', 'comment_text', 'toxic', 'severe_toxic', 'obscene', 'threat',\n",
            "       'insult', 'identity_hate'],\n",
            "      dtype='object')\n",
            "(2000, 8)\n",
            "Index(['id', 'comment_text', 'toxic', 'severe_toxic', 'obscene', 'threat',\n",
            "       'insult', 'identity_hate'],\n",
            "      dtype='object')\n",
            "id                                                aac8a884938daaff\n",
            "comment_text     fowler fowler f f i still say politely ask was...\n",
            "toxic                                                            1\n",
            "severe_toxic                                                     0\n",
            "obscene                                                          1\n",
            "threat                                                           0\n",
            "insult                                                           1\n",
            "identity_hate                                                    1\n",
            "Name: 101698, dtype: object\n"
          ],
          "name": "stdout"
        }
      ]
    },
    {
      "cell_type": "code",
      "metadata": {
        "id": "sy96FW8tWyrN",
        "colab_type": "code",
        "outputId": "37f271bf-bb65-4e47-d549-4a5cc221ff81",
        "colab": {
          "base_uri": "https://localhost:8080/",
          "height": 325
        }
      },
      "source": [
        "#Perform Data analysis\n",
        "print(\"Analysis on training data\")\n",
        "dataAnalysis(cleanTrainData)"
      ],
      "execution_count": 0,
      "outputs": [
        {
          "output_type": "stream",
          "text": [
            "Analysis on training data\n",
            "Number of samples: 159551\n"
          ],
          "name": "stdout"
        },
        {
          "output_type": "display_data",
          "data": {
            "image/png": "[encoded data removed]",
            "text/plain": [
              "<Figure size 432x288 with 1 Axes>"
            ]
          },
          "metadata": {
            "tags": []
          }
        }
      ]
    }
  ]
}