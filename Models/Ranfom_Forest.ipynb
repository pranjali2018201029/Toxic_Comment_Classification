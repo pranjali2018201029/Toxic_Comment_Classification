{
  "nbformat": 4,
  "nbformat_minor": 0,
  "metadata": {
    "colab": {
      "name": "TP_RF.ipynb",
      "provenance": [],
      "collapsed_sections": []
    },
    "kernelspec": {
      "name": "python3",
      "display_name": "Python 3"
    }
  },
  "cells": [
    {
      "cell_type": "code",
      "metadata": {
        "id": "v50NzBlhaMc8",
        "colab_type": "code",
        "colab": {
          "base_uri": "https://localhost:8080/",
          "height": 54
        },
        "outputId": "461c1ac4-0ed0-47de-93bf-28e4110044fa"
      },
      "source": [
        "from google.colab import drive\n",
        "drive.mount('/content/drive')"
      ],
      "execution_count": 1,
      "outputs": [
        {
          "output_type": "stream",
          "text": [
            "Drive already mounted at /content/drive; to attempt to forcibly remount, call drive.mount(\"/content/drive\", force_remount=True).\n"
          ],
          "name": "stdout"
        }
      ]
    },
    {
      "cell_type": "code",
      "metadata": {
        "id": "-VjBd_Y8aZt_",
        "colab_type": "code",
        "colab": {}
      },
      "source": [
        "from sklearn.metrics import classification_report, confusion_matrix\n",
        "\n",
        "import pickle\n",
        "import pandas as pd\n",
        "import numpy as np\n",
        "\n",
        "from sklearn.model_selection import GridSearchCV\n",
        "from sklearn.ensemble import RandomForestClassifier\n",
        "\n",
        "from sklearn.metrics import hamming_loss\n",
        "from sklearn.metrics import accuracy_score\n",
        "from sklearn.metrics import log_loss"
      ],
      "execution_count": 0,
      "outputs": []
    },
    {
      "cell_type": "code",
      "metadata": {
        "id": "xCHJ0FvQcKBR",
        "colab_type": "code",
        "colab": {}
      },
      "source": [
        "def loadData(path):\n",
        "  data = pd.read_csv(path)\n",
        "  data = data.dropna()\n",
        "  print(\"Dimensions of dataset:\", data.shape)\n",
        "  print(data.columns)\n",
        "  return data"
      ],
      "execution_count": 0,
      "outputs": []
    },
    {
      "cell_type": "code",
      "metadata": {
        "id": "11EsYxpscUUy",
        "colab_type": "code",
        "colab": {
          "base_uri": "https://localhost:8080/",
          "height": 221
        },
        "outputId": "837ab83e-8113-47e4-9a84-79bd09d29b6e"
      },
      "source": [
        "#Read word embeddings for train data\n",
        "gloveEmbeddedTrainData = loadData(\"/content/drive/My Drive/Train_Glove_Embeddings.csv\")\n",
        "\n",
        "#Read word embeddings for test data\n",
        "gloveEmbeddedTestData = loadData(\"/content/drive/My Drive/Test_Glove_Embeddings.csv\")"
      ],
      "execution_count": 4,
      "outputs": [
        {
          "output_type": "stream",
          "text": [
            "Dimensions of dataset: (159468, 309)\n",
            "Index(['Unnamed: 0', 'id', 'comment_text', '0', '1', '2', '3', '4', '5', '6',\n",
            "       ...\n",
            "       '296', '297', '298', '299', 'toxic', 'severe_toxic', 'obscene',\n",
            "       'threat', 'insult', 'identity_hate'],\n",
            "      dtype='object', length=309)\n",
            "Dimensions of dataset: (63380, 309)\n",
            "Index(['Unnamed: 0', 'id', 'comment_text', '0', '1', '2', '3', '4', '5', '6',\n",
            "       ...\n",
            "       '296', '297', '298', '299', 'toxic', 'severe_toxic', 'obscene',\n",
            "       'threat', 'insult', 'identity_hate'],\n",
            "      dtype='object', length=309)\n"
          ],
          "name": "stdout"
        }
      ]
    },
    {
      "cell_type": "code",
      "metadata": {
        "id": "Y-XPtpprcXY1",
        "colab_type": "code",
        "colab": {
          "base_uri": "https://localhost:8080/",
          "height": 187
        },
        "outputId": "f1056470-86be-4d07-939d-4dfb12b17961"
      },
      "source": [
        "#Drop unnecessary columns\n",
        "gloveEmbeddedTrainData = gloveEmbeddedTrainData.drop(['Unnamed: 0'], axis=1)\n",
        "print(gloveEmbeddedTrainData.columns)\n",
        "\n",
        "gloveEmbeddedTestData = gloveEmbeddedTestData.drop(['Unnamed: 0'], axis=1)\n",
        "print(gloveEmbeddedTestData.columns)"
      ],
      "execution_count": 5,
      "outputs": [
        {
          "output_type": "stream",
          "text": [
            "Index(['id', 'comment_text', '0', '1', '2', '3', '4', '5', '6', '7',\n",
            "       ...\n",
            "       '296', '297', '298', '299', 'toxic', 'severe_toxic', 'obscene',\n",
            "       'threat', 'insult', 'identity_hate'],\n",
            "      dtype='object', length=308)\n",
            "Index(['id', 'comment_text', '0', '1', '2', '3', '4', '5', '6', '7',\n",
            "       ...\n",
            "       '296', '297', '298', '299', 'toxic', 'severe_toxic', 'obscene',\n",
            "       'threat', 'insult', 'identity_hate'],\n",
            "      dtype='object', length=308)\n"
          ],
          "name": "stdout"
        }
      ]
    },
    {
      "cell_type": "code",
      "metadata": {
        "id": "WpQZV6sVY4WT",
        "colab_type": "code",
        "colab": {}
      },
      "source": [
        "def trainRandomForest(trainData, noOfTrees):\n",
        "  X = trainData[trainData.columns[2:302]]\n",
        "  Y = trainData[trainData.columns[302:]]\n",
        "  clf = RandomForestClassifier(n_estimators=noOfTrees, random_state=0)\n",
        "  clf.fit(X, Y)\n",
        "  return clf"
      ],
      "execution_count": 0,
      "outputs": []
    },
    {
      "cell_type": "code",
      "metadata": {
        "id": "ECMcKzynY8cN",
        "colab_type": "code",
        "colab": {}
      },
      "source": [
        "def testRandomForest(testData, model):\n",
        "  X = testData[testData.columns[2:302]]\n",
        "  print(\"testData size:\", X.shape)\n",
        "  Y = testData[testData.columns[302:]]\n",
        "  prob = model.predict_proba(X)\n",
        "  predictions = np.zeros((gloveEmbeddedTestData.shape[0], 6))\n",
        "  for i in range(len(prob)):\n",
        "    x = prob[i]\n",
        "    for j in range(len(x)):\n",
        "      t = np.argmax(x[j])\n",
        "      predictions[j][i] = t\n",
        "\n",
        "  # incorrect = 0\n",
        "  # for i in range(len(predictions)):\n",
        "  #   sample = predictions[i]\n",
        "  #   for j in range(len(sample)):\n",
        "  #     if sample[j] != Y.iloc[i, j]:\n",
        "  #       incorrect += 1\n",
        "  # accuracy = len(predictions) - incorrect\n",
        "  # accuracy = accuracy/len(predictions)\n",
        "\n",
        "  #calculate score\n",
        "  loss = log_loss(Y,predictions)\n",
        "  print(\"Log_loss : {}\".format(loss))\n",
        "  predictions = np.round(predictions)\n",
        "  loss = hamming_loss(Y,predictions)\n",
        "  print(\"Hamming_loss : {}\".format(loss*100))\n",
        "  accuracy = accuracy_score(Y,predictions)\n",
        "  print(\"Accuracy : {}\".format(accuracy*100))\n"
      ],
      "execution_count": 0,
      "outputs": []
    },
    {
      "cell_type": "code",
      "metadata": {
        "id": "4m4LGSIkY-TT",
        "colab_type": "code",
        "colab": {}
      },
      "source": [
        "#Training Random Forest\n",
        "randomForest = trainRandomForest(gloveEmbeddedTrainData, 150)"
      ],
      "execution_count": 0,
      "outputs": []
    },
    {
      "cell_type": "code",
      "metadata": {
        "id": "1MoDfWs9ZBM2",
        "colab_type": "code",
        "colab": {
          "base_uri": "https://localhost:8080/",
          "height": 85
        },
        "outputId": "21c06f95-56d1-4f9e-c935-efdd9d5aa4e2"
      },
      "source": [
        "#Testing Random Forest\n",
        "testRandomForest(gloveEmbeddedTestData, randomForest)\n"
      ],
      "execution_count": 9,
      "outputs": [
        {
          "output_type": "stream",
          "text": [
            "testData size: (63380, 300)\n",
            "Log_loss : 0.42301236212709503\n",
            "Hamming_loss : 3.9047543915009997\n",
            "Accuracy : 89.65762070053644\n"
          ],
          "name": "stdout"
        }
      ]
    }
  ]
}